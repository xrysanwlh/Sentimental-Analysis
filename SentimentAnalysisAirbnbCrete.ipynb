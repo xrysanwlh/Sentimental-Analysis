{
 "cells": [
  {
   "cell_type": "markdown",
   "id": "663fa601",
   "metadata": {
    "id": "663fa601"
   },
   "source": [
    "# Sentiment Analysis - Airbnb Reviews in Crete"
   ]
  },
  {
   "cell_type": "code",
   "execution_count": 2,
   "id": "dc94e6fa",
   "metadata": {
    "id": "dc94e6fa"
   },
   "outputs": [],
   "source": [
    "import pandas as pd\n",
    "import numpy as np\n",
    "import seaborn as sns\n",
    "import plotly.graph_objects as go\n",
    "import matplotlib.pyplot as plt\n",
    "import spacy\n",
    "import nltk\n",
    "import collections\n",
    "import itertools\n",
    "import collections\n",
    "from nltk.sentiment.vader import SentimentIntensityAnalyzer\n",
    "import nltk\n",
    "from nltk.corpus import stopwords   \n",
    "from nltk import wordpunct_tokenize \n",
    "from sklearn.preprocessing import LabelBinarizer"
   ]
  },
  {
   "cell_type": "code",
   "execution_count": 3,
   "id": "eb96ede7",
   "metadata": {
    "id": "eb96ede7"
   },
   "outputs": [
    {
     "name": "stderr",
     "output_type": "stream",
     "text": [
      "[nltk_data] Downloading package stopwords to\n",
      "[nltk_data]     /Users/katerinatsilingiri/nltk_data...\n",
      "[nltk_data]   Package stopwords is already up-to-date!\n"
     ]
    }
   ],
   "source": [
    "nltk.download('stopwords')\n",
    "from nltk.corpus import stopwords"
   ]
  },
  {
   "cell_type": "code",
   "execution_count": 4,
   "id": "nQ5-CkH4vt9I",
   "metadata": {
    "id": "nQ5-CkH4vt9I"
   },
   "outputs": [],
   "source": [
    "url=\"http://data.insideairbnb.com/greece/crete/crete/2022-03-28/data/reviews.csv.gz\"\n",
    "\n",
    "df = pd.read_csv(url)"
   ]
  },
  {
   "cell_type": "code",
   "execution_count": 5,
   "id": "89b36962",
   "metadata": {},
   "outputs": [
    {
     "data": {
      "text/plain": [
       "(271874, 6)"
      ]
     },
     "execution_count": 5,
     "metadata": {},
     "output_type": "execute_result"
    }
   ],
   "source": [
    "df.shape"
   ]
  },
  {
   "cell_type": "code",
   "execution_count": 6,
   "id": "2a340162",
   "metadata": {
    "id": "2a340162"
   },
   "outputs": [
    {
     "data": {
      "text/plain": [
       "3"
      ]
     },
     "execution_count": 6,
     "metadata": {},
     "output_type": "execute_result"
    }
   ],
   "source": [
    "# search if there are any null values in comments \n",
    "df['comments'].isnull().sum()"
   ]
  },
  {
   "cell_type": "code",
   "execution_count": 7,
   "id": "5734a286",
   "metadata": {},
   "outputs": [],
   "source": [
    "df = df.iloc[:10000]"
   ]
  },
  {
   "cell_type": "code",
   "execution_count": 8,
   "id": "b5c7ed5c",
   "metadata": {},
   "outputs": [
    {
     "data": {
      "text/html": [
       "<div>\n",
       "<style scoped>\n",
       "    .dataframe tbody tr th:only-of-type {\n",
       "        vertical-align: middle;\n",
       "    }\n",
       "\n",
       "    .dataframe tbody tr th {\n",
       "        vertical-align: top;\n",
       "    }\n",
       "\n",
       "    .dataframe thead th {\n",
       "        text-align: right;\n",
       "    }\n",
       "</style>\n",
       "<table border=\"1\" class=\"dataframe\">\n",
       "  <thead>\n",
       "    <tr style=\"text-align: right;\">\n",
       "      <th></th>\n",
       "      <th>listing_id</th>\n",
       "      <th>id</th>\n",
       "      <th>date</th>\n",
       "      <th>reviewer_id</th>\n",
       "      <th>reviewer_name</th>\n",
       "      <th>comments</th>\n",
       "    </tr>\n",
       "  </thead>\n",
       "  <tbody>\n",
       "    <tr>\n",
       "      <th>0</th>\n",
       "      <td>27966</td>\n",
       "      <td>495260</td>\n",
       "      <td>2011-09-02</td>\n",
       "      <td>730165</td>\n",
       "      <td>Maja</td>\n",
       "      <td>Manolis and his family were wonderful hosta. I...</td>\n",
       "    </tr>\n",
       "    <tr>\n",
       "      <th>1</th>\n",
       "      <td>27966</td>\n",
       "      <td>1088520</td>\n",
       "      <td>2012-04-06</td>\n",
       "      <td>1463423</td>\n",
       "      <td>Russell</td>\n",
       "      <td>Nice apartment. Manolis and his family are lov...</td>\n",
       "    </tr>\n",
       "    <tr>\n",
       "      <th>2</th>\n",
       "      <td>27966</td>\n",
       "      <td>1638334</td>\n",
       "      <td>2012-07-05</td>\n",
       "      <td>2761210</td>\n",
       "      <td>Jessica</td>\n",
       "      <td>Antonia was a fantastic host! She will no doub...</td>\n",
       "    </tr>\n",
       "    <tr>\n",
       "      <th>3</th>\n",
       "      <td>27966</td>\n",
       "      <td>1884289</td>\n",
       "      <td>2012-08-04</td>\n",
       "      <td>2814925</td>\n",
       "      <td>Paul</td>\n",
       "      <td>Manolis has an excellent apartment in Amoudara...</td>\n",
       "    </tr>\n",
       "    <tr>\n",
       "      <th>4</th>\n",
       "      <td>27966</td>\n",
       "      <td>1972549</td>\n",
       "      <td>2012-08-13</td>\n",
       "      <td>3039803</td>\n",
       "      <td>Lavinia</td>\n",
       "      <td>Everything was wonderful! The weather, beach, ...</td>\n",
       "    </tr>\n",
       "  </tbody>\n",
       "</table>\n",
       "</div>"
      ],
      "text/plain": [
       "   listing_id       id        date  reviewer_id reviewer_name  \\\n",
       "0       27966   495260  2011-09-02       730165          Maja   \n",
       "1       27966  1088520  2012-04-06      1463423       Russell   \n",
       "2       27966  1638334  2012-07-05      2761210       Jessica   \n",
       "3       27966  1884289  2012-08-04      2814925          Paul   \n",
       "4       27966  1972549  2012-08-13      3039803       Lavinia   \n",
       "\n",
       "                                            comments  \n",
       "0  Manolis and his family were wonderful hosta. I...  \n",
       "1  Nice apartment. Manolis and his family are lov...  \n",
       "2  Antonia was a fantastic host! She will no doub...  \n",
       "3  Manolis has an excellent apartment in Amoudara...  \n",
       "4  Everything was wonderful! The weather, beach, ...  "
      ]
     },
     "execution_count": 8,
     "metadata": {},
     "output_type": "execute_result"
    }
   ],
   "source": [
    "df.head()"
   ]
  },
  {
   "cell_type": "code",
   "execution_count": 9,
   "id": "qYFAzy9R4KEV",
   "metadata": {
    "id": "qYFAzy9R4KEV"
   },
   "outputs": [],
   "source": [
    "# function that seperates the words of the comments sections #\n",
    "# and treats any null values #\n",
    "def convert(lst): \n",
    "    return ([i for item in lst for i in item.split()]) \n",
    "\n",
    "words_from_comments = convert(df['comments'].fillna(\"\")) \n",
    "\n",
    "#print(words_from_comments)"
   ]
  },
  {
   "cell_type": "code",
   "execution_count": 10,
   "id": "00f9b296",
   "metadata": {
    "id": "00f9b296"
   },
   "outputs": [],
   "source": [
    "# generate the stop words in \n",
    "stopwords_list = set(stopwords.words(['greek', 'english', 'french', 'spanish', 'italian', 'german']))\n",
    "stopwords_list.add('<br/>') # add this manually, because it was very common #"
   ]
  },
  {
   "cell_type": "code",
   "execution_count": 11,
   "id": "770023a2",
   "metadata": {
    "id": "770023a2"
   },
   "outputs": [
    {
     "data": {
      "text/plain": [
       "[('The', 5858),\n",
       " ('We', 4051),\n",
       " ('us', 3350),\n",
       " ('place', 2725),\n",
       " ('I', 2673),\n",
       " ('great', 2659),\n",
       " ('stay', 2448),\n",
       " ('nice', 2062),\n",
       " ('très', 1824),\n",
       " ('apartment', 1693),\n",
       " ('really', 1682),\n",
       " ('house', 1605),\n",
       " ('recommend', 1570),\n",
       " ('beautiful', 1454),\n",
       " ('good', 1420),\n",
       " ('-', 1416),\n",
       " ('would', 1353),\n",
       " ('location', 1344),\n",
       " ('It', 1315),\n",
       " ('beach', 1251)]"
      ]
     },
     "execution_count": 11,
     "metadata": {},
     "output_type": "execute_result"
    }
   ],
   "source": [
    "# remove the stop words from the comments and count how many times each #\n",
    "# word is used, in order to separate the 20 most common                 #\n",
    "comments_without_stopwords = [word for word in words_from_comments if word not in stopwords_list]\n",
    "#print(comments_without_stopwords)\n",
    "\n",
    "words_review_count = collections.Counter(comments_without_stopwords)\n",
    "words_review_count.most_common(20)"
   ]
  },
  {
   "cell_type": "code",
   "execution_count": 12,
   "id": "8VNUOinc41g3",
   "metadata": {
    "id": "8VNUOinc41g3"
   },
   "outputs": [],
   "source": [
    "# create a new dataframe with the top 20 most common words used \n",
    "word_review_count_df = pd.DataFrame(words_review_count.most_common(15), columns=['words', 'count'])"
   ]
  },
  {
   "cell_type": "code",
   "execution_count": 13,
   "id": "5d818911",
   "metadata": {
    "id": "5d818911"
   },
   "outputs": [
    {
     "data": {
      "image/png": "[encoded data removed]",
      "text/plain": [
       "<Figure size 1440x1440 with 1 Axes>"
      ]
     },
     "metadata": {
      "needs_background": "light"
     },
     "output_type": "display_data"
    }
   ],
   "source": [
    "fig, ax = plt.subplots(figsize=(20, 20))\n",
    "\n",
    "# Plot horizontal bar graph\n",
    "word_review_count_df.sort_values(by='count').plot.barh(x='words',\n",
    "                      y='count',\n",
    "                      ax=ax,\n",
    "                      color=\"purple\")\n",
    "\n",
    "ax.set_title(\"Most Frequent Words (All Review)\")\n",
    "\n",
    "plt.show()"
   ]
  },
  {
   "cell_type": "code",
   "execution_count": 14,
   "id": "726ea16b",
   "metadata": {
    "id": "726ea16b"
   },
   "outputs": [
    {
     "name": "stderr",
     "output_type": "stream",
     "text": [
      "[nltk_data] Downloading package vader_lexicon to\n",
      "[nltk_data]     /Users/katerinatsilingiri/nltk_data...\n",
      "[nltk_data]   Package vader_lexicon is already up-to-date!\n"
     ]
    }
   ],
   "source": [
    "nltk.download('vader_lexicon')\n",
    "sid = SentimentIntensityAnalyzer()        "
   ]
  },
  {
   "cell_type": "code",
   "execution_count": 15,
   "id": "331af2f3",
   "metadata": {
    "id": "331af2f3"
   },
   "outputs": [],
   "source": [
    "# since the review comments are in different languages #\n",
    "# for each review, we try to identify the language and #\n",
    "# then get the corresponding dictionary.               #\n",
    "\n",
    "# get the corresponding dictionary for the input language #\n",
    "# it is needed beacase we are analysing for many languages (6) #\n",
    "def get_language_likelihood(input_text):\n",
    "    input_text = input_text.lower()\n",
    "    input_words = wordpunct_tokenize(input_text)\n",
    " \n",
    "    language_likelihood = {}\n",
    "    total_matches = 0\n",
    "    for language in stopwords._fileids:\n",
    "        language_likelihood[language] = len(set(input_words) &\n",
    "                set(stopwords.words(language)))\n",
    " \n",
    "    return language_likelihood\n",
    "\n",
    "# identify the language #\n",
    "def get_language(input_text):\n",
    "    likelihoods = get_language_likelihood(input_text)\n",
    "    return sorted(likelihoods, key=likelihoods.get, reverse=True)[0]\n"
   ]
  },
  {
   "cell_type": "code",
   "execution_count": 16,
   "id": "3ac904ba",
   "metadata": {},
   "outputs": [],
   "source": [
    "reviews_f = [r for r in df['comments'] if pd.notnull(r) and get_language(r) in ['greek', 'english', 'french', 'spanish', 'italian', 'german']]\n",
    "\n",
    "# calculate the score according to the language #\n",
    "pscores = [sid.polarity_scores(comment) for comment in reviews_f]"
   ]
  },
  {
   "cell_type": "code",
   "execution_count": 17,
   "id": "5dc1dfd7",
   "metadata": {
    "id": "5dc1dfd7"
   },
   "outputs": [
    {
     "data": {
      "text/plain": [
       "Text(0, 0.5, 'frequency')"
      ]
     },
     "execution_count": 17,
     "metadata": {},
     "output_type": "execute_result"
    },
    {
     "data": {
      "image/png": "[encoded data removed]",
      "text/plain": [
       "<Figure size 432x288 with 1 Axes>"
      ]
     },
     "metadata": {
      "needs_background": "light"
     },
     "output_type": "display_data"
    }
   ],
   "source": [
    "pd.Series([score['compound'] for score in pscores]).plot(kind='hist')\n",
    "\n",
    "plt.title('Compound Scores')\n",
    "plt.xlabel('Scores')\n",
    "plt.ylabel('frequency')"
   ]
  },
  {
   "cell_type": "code",
   "execution_count": 18,
   "id": "3a1b512d",
   "metadata": {
    "id": "3a1b512d"
   },
   "outputs": [],
   "source": [
    "#Create dataframe for sentiment analysis\n",
    "comments_with_score = pd.DataFrame()\n",
    "comments_with_score['comment'] = [r for r in reviews_f if get_language(r) in ['greek', 'english', 'french', 'spanish', 'italian', 'german']]\n",
    "comments_with_score['compound'] = [score['compound'] for score in pscores]\n",
    "comments_with_score['negativity'] = [score['neg'] for score in pscores]\n",
    "comments_with_score['neutrality'] = [score['neu'] for score in pscores]\n",
    "comments_with_score['positivity'] = [score['pos'] for score in pscores]"
   ]
  },
  {
   "cell_type": "code",
   "execution_count": 19,
   "id": "a7f03f2d",
   "metadata": {
    "id": "a7f03f2d"
   },
   "outputs": [
    {
     "data": {
      "text/html": [
       "<div>\n",
       "<style scoped>\n",
       "    .dataframe tbody tr th:only-of-type {\n",
       "        vertical-align: middle;\n",
       "    }\n",
       "\n",
       "    .dataframe tbody tr th {\n",
       "        vertical-align: top;\n",
       "    }\n",
       "\n",
       "    .dataframe thead th {\n",
       "        text-align: right;\n",
       "    }\n",
       "</style>\n",
       "<table border=\"1\" class=\"dataframe\">\n",
       "  <thead>\n",
       "    <tr style=\"text-align: right;\">\n",
       "      <th></th>\n",
       "      <th>comment</th>\n",
       "      <th>compound</th>\n",
       "      <th>negativity</th>\n",
       "      <th>neutrality</th>\n",
       "      <th>positivity</th>\n",
       "    </tr>\n",
       "  </thead>\n",
       "  <tbody>\n",
       "    <tr>\n",
       "      <th>69</th>\n",
       "      <td>Wir hatten eine schöne Zeit in Antonia Apartme...</td>\n",
       "      <td>-0.8439</td>\n",
       "      <td>0.188</td>\n",
       "      <td>0.812</td>\n",
       "      <td>0.000</td>\n",
       "    </tr>\n",
       "    <tr>\n",
       "      <th>71</th>\n",
       "      <td>Les moments que nous avons passés avec Antonia...</td>\n",
       "      <td>-0.2732</td>\n",
       "      <td>0.014</td>\n",
       "      <td>0.986</td>\n",
       "      <td>0.000</td>\n",
       "    </tr>\n",
       "    <tr>\n",
       "      <th>85</th>\n",
       "      <td>Assurément ma meilleure expérience Airbnb! Man...</td>\n",
       "      <td>-0.5550</td>\n",
       "      <td>0.050</td>\n",
       "      <td>0.950</td>\n",
       "      <td>0.000</td>\n",
       "    </tr>\n",
       "    <tr>\n",
       "      <th>111</th>\n",
       "      <td>Sehr empfehlenswert! Antonia und Manolis sind ...</td>\n",
       "      <td>-0.9270</td>\n",
       "      <td>0.120</td>\n",
       "      <td>0.880</td>\n",
       "      <td>0.000</td>\n",
       "    </tr>\n",
       "    <tr>\n",
       "      <th>128</th>\n",
       "      <td>Eirini und Vincent waren fabelhafte Gastgeber....</td>\n",
       "      <td>-0.9485</td>\n",
       "      <td>0.114</td>\n",
       "      <td>0.886</td>\n",
       "      <td>0.000</td>\n",
       "    </tr>\n",
       "    <tr>\n",
       "      <th>...</th>\n",
       "      <td>...</td>\n",
       "      <td>...</td>\n",
       "      <td>...</td>\n",
       "      <td>...</td>\n",
       "      <td>...</td>\n",
       "    </tr>\n",
       "    <tr>\n",
       "      <th>9315</th>\n",
       "      <td>El apartamento es maravilloso, con vistas incr...</td>\n",
       "      <td>-0.5267</td>\n",
       "      <td>0.141</td>\n",
       "      <td>0.801</td>\n",
       "      <td>0.058</td>\n",
       "    </tr>\n",
       "    <tr>\n",
       "      <th>9364</th>\n",
       "      <td>C'est un endroit magnifiquement bien placé en ...</td>\n",
       "      <td>-0.3786</td>\n",
       "      <td>0.036</td>\n",
       "      <td>0.964</td>\n",
       "      <td>0.000</td>\n",
       "    </tr>\n",
       "    <tr>\n",
       "      <th>9384</th>\n",
       "      <td>Le coup de coeur de nos vacances ! &lt;br/&gt;Le cad...</td>\n",
       "      <td>-0.5550</td>\n",
       "      <td>0.084</td>\n",
       "      <td>0.916</td>\n",
       "      <td>0.000</td>\n",
       "    </tr>\n",
       "    <tr>\n",
       "      <th>9386</th>\n",
       "      <td>Die Lage der Unterkunft ist optimal! Man befin...</td>\n",
       "      <td>-0.7644</td>\n",
       "      <td>0.204</td>\n",
       "      <td>0.732</td>\n",
       "      <td>0.063</td>\n",
       "    </tr>\n",
       "    <tr>\n",
       "      <th>9391</th>\n",
       "      <td>Wunderbare, individuelle Unterkunft zentral in...</td>\n",
       "      <td>-0.8316</td>\n",
       "      <td>0.167</td>\n",
       "      <td>0.833</td>\n",
       "      <td>0.000</td>\n",
       "    </tr>\n",
       "  </tbody>\n",
       "</table>\n",
       "<p>828 rows × 5 columns</p>\n",
       "</div>"
      ],
      "text/plain": [
       "                                                comment  compound  negativity  \\\n",
       "69    Wir hatten eine schöne Zeit in Antonia Apartme...   -0.8439       0.188   \n",
       "71    Les moments que nous avons passés avec Antonia...   -0.2732       0.014   \n",
       "85    Assurément ma meilleure expérience Airbnb! Man...   -0.5550       0.050   \n",
       "111   Sehr empfehlenswert! Antonia und Manolis sind ...   -0.9270       0.120   \n",
       "128   Eirini und Vincent waren fabelhafte Gastgeber....   -0.9485       0.114   \n",
       "...                                                 ...       ...         ...   \n",
       "9315  El apartamento es maravilloso, con vistas incr...   -0.5267       0.141   \n",
       "9364  C'est un endroit magnifiquement bien placé en ...   -0.3786       0.036   \n",
       "9384  Le coup de coeur de nos vacances ! <br/>Le cad...   -0.5550       0.084   \n",
       "9386  Die Lage der Unterkunft ist optimal! Man befin...   -0.7644       0.204   \n",
       "9391  Wunderbare, individuelle Unterkunft zentral in...   -0.8316       0.167   \n",
       "\n",
       "      neutrality  positivity  \n",
       "69         0.812       0.000  \n",
       "71         0.986       0.000  \n",
       "85         0.950       0.000  \n",
       "111        0.880       0.000  \n",
       "128        0.886       0.000  \n",
       "...          ...         ...  \n",
       "9315       0.801       0.058  \n",
       "9364       0.964       0.000  \n",
       "9384       0.916       0.000  \n",
       "9386       0.732       0.063  \n",
       "9391       0.833       0.000  \n",
       "\n",
       "[828 rows x 5 columns]"
      ]
     },
     "execution_count": 19,
     "metadata": {},
     "output_type": "execute_result"
    }
   ],
   "source": [
    "comments_with_score.query('positivity < negativity')"
   ]
  },
  {
   "cell_type": "code",
   "execution_count": 20,
   "id": "2c2ebd42",
   "metadata": {},
   "outputs": [
    {
     "data": {
      "text/html": [
       "<div>\n",
       "<style scoped>\n",
       "    .dataframe tbody tr th:only-of-type {\n",
       "        vertical-align: middle;\n",
       "    }\n",
       "\n",
       "    .dataframe tbody tr th {\n",
       "        vertical-align: top;\n",
       "    }\n",
       "\n",
       "    .dataframe thead th {\n",
       "        text-align: right;\n",
       "    }\n",
       "</style>\n",
       "<table border=\"1\" class=\"dataframe\">\n",
       "  <thead>\n",
       "    <tr style=\"text-align: right;\">\n",
       "      <th></th>\n",
       "      <th>comment</th>\n",
       "      <th>compound</th>\n",
       "      <th>negativity</th>\n",
       "      <th>neutrality</th>\n",
       "      <th>positivity</th>\n",
       "    </tr>\n",
       "  </thead>\n",
       "  <tbody>\n",
       "    <tr>\n",
       "      <th>0</th>\n",
       "      <td>Manolis and his family were wonderful hosta. I...</td>\n",
       "      <td>0.9638</td>\n",
       "      <td>0.000</td>\n",
       "      <td>0.682</td>\n",
       "      <td>0.318</td>\n",
       "    </tr>\n",
       "    <tr>\n",
       "      <th>1</th>\n",
       "      <td>Nice apartment. Manolis and his family are lov...</td>\n",
       "      <td>0.9442</td>\n",
       "      <td>0.029</td>\n",
       "      <td>0.812</td>\n",
       "      <td>0.158</td>\n",
       "    </tr>\n",
       "    <tr>\n",
       "      <th>2</th>\n",
       "      <td>Antonia was a fantastic host! She will no doub...</td>\n",
       "      <td>0.9808</td>\n",
       "      <td>0.028</td>\n",
       "      <td>0.774</td>\n",
       "      <td>0.198</td>\n",
       "    </tr>\n",
       "    <tr>\n",
       "      <th>3</th>\n",
       "      <td>Manolis has an excellent apartment in Amoudara...</td>\n",
       "      <td>0.9985</td>\n",
       "      <td>0.015</td>\n",
       "      <td>0.749</td>\n",
       "      <td>0.237</td>\n",
       "    </tr>\n",
       "    <tr>\n",
       "      <th>4</th>\n",
       "      <td>Everything was wonderful! The weather, beach, ...</td>\n",
       "      <td>0.8955</td>\n",
       "      <td>0.000</td>\n",
       "      <td>0.722</td>\n",
       "      <td>0.278</td>\n",
       "    </tr>\n",
       "    <tr>\n",
       "      <th>...</th>\n",
       "      <td>...</td>\n",
       "      <td>...</td>\n",
       "      <td>...</td>\n",
       "      <td>...</td>\n",
       "      <td>...</td>\n",
       "    </tr>\n",
       "    <tr>\n",
       "      <th>9402</th>\n",
       "      <td>I highly recommend staying at the Beach Villa....</td>\n",
       "      <td>0.9934</td>\n",
       "      <td>0.000</td>\n",
       "      <td>0.673</td>\n",
       "      <td>0.327</td>\n",
       "    </tr>\n",
       "    <tr>\n",
       "      <th>9403</th>\n",
       "      <td>If I could give six stars, I would. Valia is a...</td>\n",
       "      <td>0.9722</td>\n",
       "      <td>0.000</td>\n",
       "      <td>0.814</td>\n",
       "      <td>0.186</td>\n",
       "    </tr>\n",
       "    <tr>\n",
       "      <th>9405</th>\n",
       "      <td>Nice place with lots of sleeping space. Pool w...</td>\n",
       "      <td>0.9749</td>\n",
       "      <td>0.000</td>\n",
       "      <td>0.643</td>\n",
       "      <td>0.357</td>\n",
       "    </tr>\n",
       "    <tr>\n",
       "      <th>9406</th>\n",
       "      <td>Valia was excellent before and during our trip...</td>\n",
       "      <td>0.9234</td>\n",
       "      <td>0.029</td>\n",
       "      <td>0.850</td>\n",
       "      <td>0.121</td>\n",
       "    </tr>\n",
       "    <tr>\n",
       "      <th>9407</th>\n",
       "      <td>10 of us stayed in the villa in Panormo to cel...</td>\n",
       "      <td>0.9895</td>\n",
       "      <td>0.030</td>\n",
       "      <td>0.726</td>\n",
       "      <td>0.244</td>\n",
       "    </tr>\n",
       "  </tbody>\n",
       "</table>\n",
       "<p>7345 rows × 5 columns</p>\n",
       "</div>"
      ],
      "text/plain": [
       "                                                comment  compound  negativity  \\\n",
       "0     Manolis and his family were wonderful hosta. I...    0.9638       0.000   \n",
       "1     Nice apartment. Manolis and his family are lov...    0.9442       0.029   \n",
       "2     Antonia was a fantastic host! She will no doub...    0.9808       0.028   \n",
       "3     Manolis has an excellent apartment in Amoudara...    0.9985       0.015   \n",
       "4     Everything was wonderful! The weather, beach, ...    0.8955       0.000   \n",
       "...                                                 ...       ...         ...   \n",
       "9402  I highly recommend staying at the Beach Villa....    0.9934       0.000   \n",
       "9403  If I could give six stars, I would. Valia is a...    0.9722       0.000   \n",
       "9405  Nice place with lots of sleeping space. Pool w...    0.9749       0.000   \n",
       "9406  Valia was excellent before and during our trip...    0.9234       0.029   \n",
       "9407  10 of us stayed in the villa in Panormo to cel...    0.9895       0.030   \n",
       "\n",
       "      neutrality  positivity  \n",
       "0          0.682       0.318  \n",
       "1          0.812       0.158  \n",
       "2          0.774       0.198  \n",
       "3          0.749       0.237  \n",
       "4          0.722       0.278  \n",
       "...          ...         ...  \n",
       "9402       0.673       0.327  \n",
       "9403       0.814       0.186  \n",
       "9405       0.643       0.357  \n",
       "9406       0.850       0.121  \n",
       "9407       0.726       0.244  \n",
       "\n",
       "[7345 rows x 5 columns]"
      ]
     },
     "execution_count": 20,
     "metadata": {},
     "output_type": "execute_result"
    }
   ],
   "source": [
    "comments_with_score.query('positivity > negativity')"
   ]
  },
  {
   "cell_type": "code",
   "execution_count": 21,
   "id": "53376c11",
   "metadata": {
    "id": "53376c11"
   },
   "outputs": [
    {
     "data": {
      "text/html": [
       "<div>\n",
       "<style scoped>\n",
       "    .dataframe tbody tr th:only-of-type {\n",
       "        vertical-align: middle;\n",
       "    }\n",
       "\n",
       "    .dataframe tbody tr th {\n",
       "        vertical-align: top;\n",
       "    }\n",
       "\n",
       "    .dataframe thead th {\n",
       "        text-align: right;\n",
       "    }\n",
       "</style>\n",
       "<table border=\"1\" class=\"dataframe\">\n",
       "  <thead>\n",
       "    <tr style=\"text-align: right;\">\n",
       "      <th></th>\n",
       "      <th>comment</th>\n",
       "      <th>compound</th>\n",
       "      <th>negativity</th>\n",
       "      <th>neutrality</th>\n",
       "      <th>positivity</th>\n",
       "    </tr>\n",
       "  </thead>\n",
       "  <tbody>\n",
       "    <tr>\n",
       "      <th>0</th>\n",
       "      <td>Manolis and his family were wonderful hosta. I...</td>\n",
       "      <td>0.9638</td>\n",
       "      <td>0.000</td>\n",
       "      <td>0.682</td>\n",
       "      <td>0.318</td>\n",
       "    </tr>\n",
       "    <tr>\n",
       "      <th>1</th>\n",
       "      <td>Nice apartment. Manolis and his family are lov...</td>\n",
       "      <td>0.9442</td>\n",
       "      <td>0.029</td>\n",
       "      <td>0.812</td>\n",
       "      <td>0.158</td>\n",
       "    </tr>\n",
       "    <tr>\n",
       "      <th>2</th>\n",
       "      <td>Antonia was a fantastic host! She will no doub...</td>\n",
       "      <td>0.9808</td>\n",
       "      <td>0.028</td>\n",
       "      <td>0.774</td>\n",
       "      <td>0.198</td>\n",
       "    </tr>\n",
       "    <tr>\n",
       "      <th>3</th>\n",
       "      <td>Manolis has an excellent apartment in Amoudara...</td>\n",
       "      <td>0.9985</td>\n",
       "      <td>0.015</td>\n",
       "      <td>0.749</td>\n",
       "      <td>0.237</td>\n",
       "    </tr>\n",
       "    <tr>\n",
       "      <th>4</th>\n",
       "      <td>Everything was wonderful! The weather, beach, ...</td>\n",
       "      <td>0.8955</td>\n",
       "      <td>0.000</td>\n",
       "      <td>0.722</td>\n",
       "      <td>0.278</td>\n",
       "    </tr>\n",
       "  </tbody>\n",
       "</table>\n",
       "</div>"
      ],
      "text/plain": [
       "                                             comment  compound  negativity  \\\n",
       "0  Manolis and his family were wonderful hosta. I...    0.9638       0.000   \n",
       "1  Nice apartment. Manolis and his family are lov...    0.9442       0.029   \n",
       "2  Antonia was a fantastic host! She will no doub...    0.9808       0.028   \n",
       "3  Manolis has an excellent apartment in Amoudara...    0.9985       0.015   \n",
       "4  Everything was wonderful! The weather, beach, ...    0.8955       0.000   \n",
       "\n",
       "   neutrality  positivity  \n",
       "0       0.682       0.318  \n",
       "1       0.812       0.158  \n",
       "2       0.774       0.198  \n",
       "3       0.749       0.237  \n",
       "4       0.722       0.278  "
      ]
     },
     "execution_count": 21,
     "metadata": {},
     "output_type": "execute_result"
    }
   ],
   "source": [
    "comments_with_score.head()"
   ]
  },
  {
   "cell_type": "code",
   "execution_count": 22,
   "id": "37af3fd9",
   "metadata": {},
   "outputs": [],
   "source": [
    "# depending on the value on the 'compound', define if #\n",
    "# the comment is negative or positive #\n",
    "def label_comment(row):\n",
    "    if row['compound'] > 0:\n",
    "        # positive\n",
    "        return(1)\n",
    "    else:\n",
    "        #negative\n",
    "        #print(\"negative review : \", row['comment'])\n",
    "        return(0)\n"
   ]
  },
  {
   "cell_type": "code",
   "execution_count": 23,
   "id": "b65d6708",
   "metadata": {},
   "outputs": [],
   "source": [
    "comments_with_score['class'] = comments_with_score.apply (lambda row : label_comment(row), axis=1)"
   ]
  },
  {
   "cell_type": "code",
   "execution_count": 24,
   "id": "4ace5e84",
   "metadata": {},
   "outputs": [
    {
     "data": {
      "text/html": [
       "<div>\n",
       "<style scoped>\n",
       "    .dataframe tbody tr th:only-of-type {\n",
       "        vertical-align: middle;\n",
       "    }\n",
       "\n",
       "    .dataframe tbody tr th {\n",
       "        vertical-align: top;\n",
       "    }\n",
       "\n",
       "    .dataframe thead th {\n",
       "        text-align: right;\n",
       "    }\n",
       "</style>\n",
       "<table border=\"1\" class=\"dataframe\">\n",
       "  <thead>\n",
       "    <tr style=\"text-align: right;\">\n",
       "      <th></th>\n",
       "      <th>comment</th>\n",
       "      <th>compound</th>\n",
       "      <th>negativity</th>\n",
       "      <th>neutrality</th>\n",
       "      <th>positivity</th>\n",
       "      <th>class</th>\n",
       "    </tr>\n",
       "  </thead>\n",
       "  <tbody>\n",
       "    <tr>\n",
       "      <th>0</th>\n",
       "      <td>Manolis and his family were wonderful hosta. I...</td>\n",
       "      <td>0.9638</td>\n",
       "      <td>0.000</td>\n",
       "      <td>0.682</td>\n",
       "      <td>0.318</td>\n",
       "      <td>1</td>\n",
       "    </tr>\n",
       "    <tr>\n",
       "      <th>1</th>\n",
       "      <td>Nice apartment. Manolis and his family are lov...</td>\n",
       "      <td>0.9442</td>\n",
       "      <td>0.029</td>\n",
       "      <td>0.812</td>\n",
       "      <td>0.158</td>\n",
       "      <td>1</td>\n",
       "    </tr>\n",
       "    <tr>\n",
       "      <th>2</th>\n",
       "      <td>Antonia was a fantastic host! She will no doub...</td>\n",
       "      <td>0.9808</td>\n",
       "      <td>0.028</td>\n",
       "      <td>0.774</td>\n",
       "      <td>0.198</td>\n",
       "      <td>1</td>\n",
       "    </tr>\n",
       "    <tr>\n",
       "      <th>3</th>\n",
       "      <td>Manolis has an excellent apartment in Amoudara...</td>\n",
       "      <td>0.9985</td>\n",
       "      <td>0.015</td>\n",
       "      <td>0.749</td>\n",
       "      <td>0.237</td>\n",
       "      <td>1</td>\n",
       "    </tr>\n",
       "    <tr>\n",
       "      <th>4</th>\n",
       "      <td>Everything was wonderful! The weather, beach, ...</td>\n",
       "      <td>0.8955</td>\n",
       "      <td>0.000</td>\n",
       "      <td>0.722</td>\n",
       "      <td>0.278</td>\n",
       "      <td>1</td>\n",
       "    </tr>\n",
       "    <tr>\n",
       "      <th>...</th>\n",
       "      <td>...</td>\n",
       "      <td>...</td>\n",
       "      <td>...</td>\n",
       "      <td>...</td>\n",
       "      <td>...</td>\n",
       "      <td>...</td>\n",
       "    </tr>\n",
       "    <tr>\n",
       "      <th>9403</th>\n",
       "      <td>If I could give six stars, I would. Valia is a...</td>\n",
       "      <td>0.9722</td>\n",
       "      <td>0.000</td>\n",
       "      <td>0.814</td>\n",
       "      <td>0.186</td>\n",
       "      <td>1</td>\n",
       "    </tr>\n",
       "    <tr>\n",
       "      <th>9404</th>\n",
       "      <td>The reservation was canceled 183 days before a...</td>\n",
       "      <td>0.0000</td>\n",
       "      <td>0.000</td>\n",
       "      <td>1.000</td>\n",
       "      <td>0.000</td>\n",
       "      <td>0</td>\n",
       "    </tr>\n",
       "    <tr>\n",
       "      <th>9405</th>\n",
       "      <td>Nice place with lots of sleeping space. Pool w...</td>\n",
       "      <td>0.9749</td>\n",
       "      <td>0.000</td>\n",
       "      <td>0.643</td>\n",
       "      <td>0.357</td>\n",
       "      <td>1</td>\n",
       "    </tr>\n",
       "    <tr>\n",
       "      <th>9406</th>\n",
       "      <td>Valia was excellent before and during our trip...</td>\n",
       "      <td>0.9234</td>\n",
       "      <td>0.029</td>\n",
       "      <td>0.850</td>\n",
       "      <td>0.121</td>\n",
       "      <td>1</td>\n",
       "    </tr>\n",
       "    <tr>\n",
       "      <th>9407</th>\n",
       "      <td>10 of us stayed in the villa in Panormo to cel...</td>\n",
       "      <td>0.9895</td>\n",
       "      <td>0.030</td>\n",
       "      <td>0.726</td>\n",
       "      <td>0.244</td>\n",
       "      <td>1</td>\n",
       "    </tr>\n",
       "  </tbody>\n",
       "</table>\n",
       "<p>9408 rows × 6 columns</p>\n",
       "</div>"
      ],
      "text/plain": [
       "                                                comment  compound  negativity  \\\n",
       "0     Manolis and his family were wonderful hosta. I...    0.9638       0.000   \n",
       "1     Nice apartment. Manolis and his family are lov...    0.9442       0.029   \n",
       "2     Antonia was a fantastic host! She will no doub...    0.9808       0.028   \n",
       "3     Manolis has an excellent apartment in Amoudara...    0.9985       0.015   \n",
       "4     Everything was wonderful! The weather, beach, ...    0.8955       0.000   \n",
       "...                                                 ...       ...         ...   \n",
       "9403  If I could give six stars, I would. Valia is a...    0.9722       0.000   \n",
       "9404  The reservation was canceled 183 days before a...    0.0000       0.000   \n",
       "9405  Nice place with lots of sleeping space. Pool w...    0.9749       0.000   \n",
       "9406  Valia was excellent before and during our trip...    0.9234       0.029   \n",
       "9407  10 of us stayed in the villa in Panormo to cel...    0.9895       0.030   \n",
       "\n",
       "      neutrality  positivity  class  \n",
       "0          0.682       0.318      1  \n",
       "1          0.812       0.158      1  \n",
       "2          0.774       0.198      1  \n",
       "3          0.749       0.237      1  \n",
       "4          0.722       0.278      1  \n",
       "...          ...         ...    ...  \n",
       "9403       0.814       0.186      1  \n",
       "9404       1.000       0.000      0  \n",
       "9405       0.643       0.357      1  \n",
       "9406       0.850       0.121      1  \n",
       "9407       0.726       0.244      1  \n",
       "\n",
       "[9408 rows x 6 columns]"
      ]
     },
     "execution_count": 24,
     "metadata": {},
     "output_type": "execute_result"
    }
   ],
   "source": [
    "comments_with_score"
   ]
  },
  {
   "cell_type": "markdown",
   "id": "fcf618e9",
   "metadata": {
    "id": "bd9cd8af"
   },
   "source": [
    "# Prepare the data for the classification methods "
   ]
  },
  {
   "cell_type": "code",
   "execution_count": 25,
   "id": "35abe596",
   "metadata": {
    "id": "35abe596"
   },
   "outputs": [],
   "source": [
    "from sklearn.feature_extraction.text import TfidfVectorizer \n",
    "from sklearn.model_selection import train_test_split\n",
    "from sklearn import preprocessing\n",
    "from sklearn import utils"
   ]
  },
  {
   "cell_type": "code",
   "execution_count": 26,
   "id": "3dd810c0",
   "metadata": {},
   "outputs": [],
   "source": [
    "tfidf_vectorizer=TfidfVectorizer(lowercase=True, use_idf=True, max_features = None) \n",
    "\n",
    "tfidf_vectorizer_vectors=tfidf_vectorizer.fit_transform(comments_with_score['comment'])\n",
    "#print(tfidf_vectorizer_vectors)"
   ]
  },
  {
   "cell_type": "code",
   "execution_count": 27,
   "id": "0958e749",
   "metadata": {},
   "outputs": [],
   "source": [
    "X = tfidf_vectorizer_vectors.toarray()\n",
    "#print(X)\n",
    "\n",
    "# to make sure that the elements in X are not all 0 \n",
    "#b=np.sum(X)\n",
    "#print(b)\n",
    "\n",
    "Y = comments_with_score['class'][:10000]\n",
    "#print(Y)"
   ]
  },
  {
   "cell_type": "code",
   "execution_count": 28,
   "id": "66f92c94",
   "metadata": {},
   "outputs": [],
   "source": [
    "X_train,X_test,y_train,y_test=train_test_split(X, Y, test_size = 0.2,  random_state = 0)"
   ]
  },
  {
   "cell_type": "code",
   "execution_count": 29,
   "id": "0f53970a",
   "metadata": {},
   "outputs": [],
   "source": [
    "#print(X_train)\n",
    "#b=np.sum(X_train)\n",
    "#print(b)"
   ]
  },
  {
   "cell_type": "code",
   "execution_count": 30,
   "id": "74b1239b",
   "metadata": {},
   "outputs": [],
   "source": [
    "enc = preprocessing.LabelEncoder()\n",
    "y_train_enc = enc.fit_transform(y_train)\n",
    "y_test_enc = enc.fit_transform(y_test)"
   ]
  },
  {
   "cell_type": "markdown",
   "id": "Ub6bdI4Lcgeh",
   "metadata": {
    "id": "Ub6bdI4Lcgeh"
   },
   "source": [
    "## Logistic Regression"
   ]
  },
  {
   "cell_type": "code",
   "execution_count": 32,
   "id": "6ae40177",
   "metadata": {
    "id": "6ae40177"
   },
   "outputs": [],
   "source": [
    "from sklearn.linear_model import LogisticRegression\n",
    "from sklearn.model_selection import train_test_split, StratifiedKFold, GridSearchCV \n",
    "from sklearn.metrics import mean_absolute_error, accuracy_score, confusion_matrix, classification_report, roc_auc_score,roc_curve,auc\n",
    "from sklearn.tree import DecisionTreeClassifier\n",
    "from sklearn import metrics\n",
    "import numpy as np\n",
    "import matplotlib.pyplot as plt\n",
    "import seaborn as sns\n",
    "%matplotlib inline"
   ]
  },
  {
   "cell_type": "code",
   "execution_count": 31,
   "id": "9fcf1fe9",
   "metadata": {},
   "outputs": [
    {
     "data": {
      "text/html": [
       "<style>#sk-container-id-1 {color: black;background-color: white;}#sk-container-id-1 pre{padding: 0;}#sk-container-id-1 div.sk-toggleable {background-color: white;}#sk-container-id-1 label.sk-toggleable__label {cursor: pointer;display: block;width: 100%;margin-bottom: 0;padding: 0.3em;box-sizing: border-box;text-align: center;}#sk-container-id-1 label.sk-toggleable__label-arrow:before {content: \"▸\";float: left;margin-right: 0.25em;color: #696969;}#sk-container-id-1 label.sk-toggleable__label-arrow:hover:before {color: black;}#sk-container-id-1 div.sk-estimator:hover label.sk-toggleable__label-arrow:before {color: black;}#sk-container-id-1 div.sk-toggleable__content {max-height: 0;max-width: 0;overflow: hidden;text-align: left;background-color: #f0f8ff;}#sk-container-id-1 div.sk-toggleable__content pre {margin: 0.2em;color: black;border-radius: 0.25em;background-color: #f0f8ff;}#sk-container-id-1 input.sk-toggleable__control:checked~div.sk-toggleable__content {max-height: 200px;max-width: 100%;overflow: auto;}#sk-container-id-1 input.sk-toggleable__control:checked~label.sk-toggleable__label-arrow:before {content: \"▾\";}#sk-container-id-1 div.sk-estimator input.sk-toggleable__control:checked~label.sk-toggleable__label {background-color: #d4ebff;}#sk-container-id-1 div.sk-label input.sk-toggleable__control:checked~label.sk-toggleable__label {background-color: #d4ebff;}#sk-container-id-1 input.sk-hidden--visually {border: 0;clip: rect(1px 1px 1px 1px);clip: rect(1px, 1px, 1px, 1px);height: 1px;margin: -1px;overflow: hidden;padding: 0;position: absolute;width: 1px;}#sk-container-id-1 div.sk-estimator {font-family: monospace;background-color: #f0f8ff;border: 1px dotted black;border-radius: 0.25em;box-sizing: border-box;margin-bottom: 0.5em;}#sk-container-id-1 div.sk-estimator:hover {background-color: #d4ebff;}#sk-container-id-1 div.sk-parallel-item::after {content: \"\";width: 100%;border-bottom: 1px solid gray;flex-grow: 1;}#sk-container-id-1 div.sk-label:hover label.sk-toggleable__label {background-color: #d4ebff;}#sk-container-id-1 div.sk-serial::before {content: \"\";position: absolute;border-left: 1px solid gray;box-sizing: border-box;top: 0;bottom: 0;left: 50%;z-index: 0;}#sk-container-id-1 div.sk-serial {display: flex;flex-direction: column;align-items: center;background-color: white;padding-right: 0.2em;padding-left: 0.2em;position: relative;}#sk-container-id-1 div.sk-item {position: relative;z-index: 1;}#sk-container-id-1 div.sk-parallel {display: flex;align-items: stretch;justify-content: center;background-color: white;position: relative;}#sk-container-id-1 div.sk-item::before, #sk-container-id-1 div.sk-parallel-item::before {content: \"\";position: absolute;border-left: 1px solid gray;box-sizing: border-box;top: 0;bottom: 0;left: 50%;z-index: -1;}#sk-container-id-1 div.sk-parallel-item {display: flex;flex-direction: column;z-index: 1;position: relative;background-color: white;}#sk-container-id-1 div.sk-parallel-item:first-child::after {align-self: flex-end;width: 50%;}#sk-container-id-1 div.sk-parallel-item:last-child::after {align-self: flex-start;width: 50%;}#sk-container-id-1 div.sk-parallel-item:only-child::after {width: 0;}#sk-container-id-1 div.sk-dashed-wrapped {border: 1px dashed gray;margin: 0 0.4em 0.5em 0.4em;box-sizing: border-box;padding-bottom: 0.4em;background-color: white;}#sk-container-id-1 div.sk-label label {font-family: monospace;font-weight: bold;display: inline-block;line-height: 1.2em;}#sk-container-id-1 div.sk-label-container {text-align: center;}#sk-container-id-1 div.sk-container {/* jupyter's `normalize.less` sets `[hidden] { display: none; }` but bootstrap.min.css set `[hidden] { display: none !important; }` so we also need the `!important` here to be able to override the default hidden behavior on the sphinx rendered scikit-learn.org. See: https://github.com/scikit-learn/scikit-learn/issues/21755 */display: inline-block !important;position: relative;}#sk-container-id-1 div.sk-text-repr-fallback {display: none;}</style><div id=\"sk-container-id-1\" class=\"sk-top-container\"><div class=\"sk-text-repr-fallback\"><pre>LogisticRegression()</pre><b>In a Jupyter environment, please rerun this cell to show the HTML representation or trust the notebook. <br />On GitHub, the HTML representation is unable to render, please try loading this page with nbviewer.org.</b></div><div class=\"sk-container\" hidden><div class=\"sk-item\"><div class=\"sk-estimator sk-toggleable\"><input class=\"sk-toggleable__control sk-hidden--visually\" id=\"sk-estimator-id-1\" type=\"checkbox\" checked><label for=\"sk-estimator-id-1\" class=\"sk-toggleable__label sk-toggleable__label-arrow\">LogisticRegression</label><div class=\"sk-toggleable__content\"><pre>LogisticRegression()</pre></div></div></div></div></div>"
      ],
      "text/plain": [
       "LogisticRegression()"
      ]
     },
     "execution_count": 31,
     "metadata": {},
     "output_type": "execute_result"
    }
   ],
   "source": [
    "lr = LogisticRegression()\n",
    "lr.fit(X_train, y_train_enc)"
   ]
  },
  {
   "cell_type": "code",
   "execution_count": 32,
   "id": "6667650c",
   "metadata": {},
   "outputs": [],
   "source": [
    "y_pred_train = lr.predict(X_train)\n",
    "y_pred_train = y_pred_train.flatten()\n",
    "y_pred_test = lr.predict(X_test)"
   ]
  },
  {
   "cell_type": "code",
   "execution_count": 33,
   "id": "533b4e50",
   "metadata": {},
   "outputs": [
    {
     "data": {
      "text/plain": [
       "array([[ 395,   23],\n",
       "       [  96, 1368]])"
      ]
     },
     "execution_count": 33,
     "metadata": {},
     "output_type": "execute_result"
    }
   ],
   "source": [
    "confusion_matrix = metrics.confusion_matrix(y_test, y_pred_test)\n",
    "confusion_matrix"
   ]
  },
  {
   "cell_type": "code",
   "execution_count": 34,
   "id": "7c13553f",
   "metadata": {},
   "outputs": [
    {
     "name": "stdout",
     "output_type": "stream",
     "text": [
      "Logistic Regression\n",
      "Accuracy :  0.936769394261424\n",
      "Precision :  0.9834651329978433\n"
     ]
    }
   ],
   "source": [
    "print(\"Logistic Regression\")\n",
    "print(\"Accuracy : \", accuracy_score(y_test, y_pred_test))\n",
    "print(\"Precision : \", metrics.precision_score(y_test, y_pred_test))"
   ]
  },
  {
   "cell_type": "code",
   "execution_count": 35,
   "id": "28229def",
   "metadata": {
    "scrolled": true
   },
   "outputs": [
    {
     "data": {
      "image/png": "[encoded data removed]",
      "text/plain": [
       "<Figure size 432x288 with 2 Axes>"
      ]
     },
     "metadata": {
      "needs_background": "light"
     },
     "output_type": "display_data"
    }
   ],
   "source": [
    "import seaborn as sns\n",
    "from matplotlib import pyplot as plt\n",
    "\n",
    "ax = sns.heatmap(confusion_matrix, annot=True, cmap='Blues')\n",
    "\n",
    "ax.set_title('Confusion Matrix for Logistic Regression\\n\\n');\n",
    "ax.set_xlabel('\\nPredicted Values')\n",
    "ax.set_ylabel('Actual Values ');\n",
    "\n",
    "## Ticket labels - List must be in alphabetical order\n",
    "ax.xaxis.set_ticklabels(['Positive','Negative'])\n",
    "ax.yaxis.set_ticklabels(['Positive','Negative'])\n",
    "\n",
    "## Display the visualization of the Confusion Matrix.\n",
    "plt.show()"
   ]
  },
  {
   "cell_type": "code",
   "execution_count": 36,
   "id": "2ab1a40a",
   "metadata": {
    "id": "2ab1a40a"
   },
   "outputs": [
    {
     "name": "stdout",
     "output_type": "stream",
     "text": [
      "              precision    recall  f1-score   support\n",
      "\n",
      "           0       0.80      0.94      0.87       418\n",
      "           1       0.98      0.93      0.96      1464\n",
      "\n",
      "    accuracy                           0.94      1882\n",
      "   macro avg       0.89      0.94      0.91      1882\n",
      "weighted avg       0.94      0.94      0.94      1882\n",
      "\n"
     ]
    }
   ],
   "source": [
    "print(classification_report(y_test_enc, y_pred_test))"
   ]
  },
  {
   "cell_type": "markdown",
   "id": "03eb392d",
   "metadata": {},
   "source": [
    "## Naive Bayes Classifier"
   ]
  },
  {
   "cell_type": "code",
   "execution_count": 31,
   "id": "88d5e102",
   "metadata": {},
   "outputs": [],
   "source": [
    "from sklearn.naive_bayes import GaussianNB\n",
    "from sklearn.feature_extraction.text import CountVectorizer\n",
    "from sklearn.feature_extraction.text import TfidfTransformer\n",
    "\n",
    "gnb = GaussianNB()"
   ]
  },
  {
   "cell_type": "code",
   "execution_count": 38,
   "id": "6a5b7099",
   "metadata": {},
   "outputs": [
    {
     "data": {
      "text/html": [
       "<style>#sk-container-id-2 {color: black;background-color: white;}#sk-container-id-2 pre{padding: 0;}#sk-container-id-2 div.sk-toggleable {background-color: white;}#sk-container-id-2 label.sk-toggleable__label {cursor: pointer;display: block;width: 100%;margin-bottom: 0;padding: 0.3em;box-sizing: border-box;text-align: center;}#sk-container-id-2 label.sk-toggleable__label-arrow:before {content: \"▸\";float: left;margin-right: 0.25em;color: #696969;}#sk-container-id-2 label.sk-toggleable__label-arrow:hover:before {color: black;}#sk-container-id-2 div.sk-estimator:hover label.sk-toggleable__label-arrow:before {color: black;}#sk-container-id-2 div.sk-toggleable__content {max-height: 0;max-width: 0;overflow: hidden;text-align: left;background-color: #f0f8ff;}#sk-container-id-2 div.sk-toggleable__content pre {margin: 0.2em;color: black;border-radius: 0.25em;background-color: #f0f8ff;}#sk-container-id-2 input.sk-toggleable__control:checked~div.sk-toggleable__content {max-height: 200px;max-width: 100%;overflow: auto;}#sk-container-id-2 input.sk-toggleable__control:checked~label.sk-toggleable__label-arrow:before {content: \"▾\";}#sk-container-id-2 div.sk-estimator input.sk-toggleable__control:checked~label.sk-toggleable__label {background-color: #d4ebff;}#sk-container-id-2 div.sk-label input.sk-toggleable__control:checked~label.sk-toggleable__label {background-color: #d4ebff;}#sk-container-id-2 input.sk-hidden--visually {border: 0;clip: rect(1px 1px 1px 1px);clip: rect(1px, 1px, 1px, 1px);height: 1px;margin: -1px;overflow: hidden;padding: 0;position: absolute;width: 1px;}#sk-container-id-2 div.sk-estimator {font-family: monospace;background-color: #f0f8ff;border: 1px dotted black;border-radius: 0.25em;box-sizing: border-box;margin-bottom: 0.5em;}#sk-container-id-2 div.sk-estimator:hover {background-color: #d4ebff;}#sk-container-id-2 div.sk-parallel-item::after {content: \"\";width: 100%;border-bottom: 1px solid gray;flex-grow: 1;}#sk-container-id-2 div.sk-label:hover label.sk-toggleable__label {background-color: #d4ebff;}#sk-container-id-2 div.sk-serial::before {content: \"\";position: absolute;border-left: 1px solid gray;box-sizing: border-box;top: 0;bottom: 0;left: 50%;z-index: 0;}#sk-container-id-2 div.sk-serial {display: flex;flex-direction: column;align-items: center;background-color: white;padding-right: 0.2em;padding-left: 0.2em;position: relative;}#sk-container-id-2 div.sk-item {position: relative;z-index: 1;}#sk-container-id-2 div.sk-parallel {display: flex;align-items: stretch;justify-content: center;background-color: white;position: relative;}#sk-container-id-2 div.sk-item::before, #sk-container-id-2 div.sk-parallel-item::before {content: \"\";position: absolute;border-left: 1px solid gray;box-sizing: border-box;top: 0;bottom: 0;left: 50%;z-index: -1;}#sk-container-id-2 div.sk-parallel-item {display: flex;flex-direction: column;z-index: 1;position: relative;background-color: white;}#sk-container-id-2 div.sk-parallel-item:first-child::after {align-self: flex-end;width: 50%;}#sk-container-id-2 div.sk-parallel-item:last-child::after {align-self: flex-start;width: 50%;}#sk-container-id-2 div.sk-parallel-item:only-child::after {width: 0;}#sk-container-id-2 div.sk-dashed-wrapped {border: 1px dashed gray;margin: 0 0.4em 0.5em 0.4em;box-sizing: border-box;padding-bottom: 0.4em;background-color: white;}#sk-container-id-2 div.sk-label label {font-family: monospace;font-weight: bold;display: inline-block;line-height: 1.2em;}#sk-container-id-2 div.sk-label-container {text-align: center;}#sk-container-id-2 div.sk-container {/* jupyter's `normalize.less` sets `[hidden] { display: none; }` but bootstrap.min.css set `[hidden] { display: none !important; }` so we also need the `!important` here to be able to override the default hidden behavior on the sphinx rendered scikit-learn.org. See: https://github.com/scikit-learn/scikit-learn/issues/21755 */display: inline-block !important;position: relative;}#sk-container-id-2 div.sk-text-repr-fallback {display: none;}</style><div id=\"sk-container-id-2\" class=\"sk-top-container\"><div class=\"sk-text-repr-fallback\"><pre>GaussianNB()</pre><b>In a Jupyter environment, please rerun this cell to show the HTML representation or trust the notebook. <br />On GitHub, the HTML representation is unable to render, please try loading this page with nbviewer.org.</b></div><div class=\"sk-container\" hidden><div class=\"sk-item\"><div class=\"sk-estimator sk-toggleable\"><input class=\"sk-toggleable__control sk-hidden--visually\" id=\"sk-estimator-id-2\" type=\"checkbox\" checked><label for=\"sk-estimator-id-2\" class=\"sk-toggleable__label sk-toggleable__label-arrow\">GaussianNB</label><div class=\"sk-toggleable__content\"><pre>GaussianNB()</pre></div></div></div></div></div>"
      ],
      "text/plain": [
       "GaussianNB()"
      ]
     },
     "execution_count": 38,
     "metadata": {},
     "output_type": "execute_result"
    }
   ],
   "source": [
    "gnb.fit(X_train, y_train_enc)"
   ]
  },
  {
   "cell_type": "code",
   "execution_count": 39,
   "id": "9e107a5b",
   "metadata": {},
   "outputs": [],
   "source": [
    "y_pred_train = gnb.predict(X_train)"
   ]
  },
  {
   "cell_type": "code",
   "execution_count": 40,
   "id": "4188e4d3",
   "metadata": {},
   "outputs": [],
   "source": [
    "y_pred_test = gnb.predict(X_test)"
   ]
  },
  {
   "cell_type": "code",
   "execution_count": 41,
   "id": "132ef433",
   "metadata": {},
   "outputs": [
    {
     "data": {
      "text/plain": [
       "array([[ 334,   84],\n",
       "       [ 115, 1349]])"
      ]
     },
     "execution_count": 41,
     "metadata": {},
     "output_type": "execute_result"
    }
   ],
   "source": [
    "confusion_matrix = metrics.confusion_matrix(y_test, y_pred_test)\n",
    "confusion_matrix"
   ]
  },
  {
   "cell_type": "code",
   "execution_count": 42,
   "id": "1cc28780",
   "metadata": {},
   "outputs": [
    {
     "data": {
      "image/png": "[encoded data removed]",
      "text/plain": [
       "<Figure size 432x288 with 2 Axes>"
      ]
     },
     "metadata": {
      "needs_background": "light"
     },
     "output_type": "display_data"
    }
   ],
   "source": [
    "import seaborn as sns\n",
    "from matplotlib import pyplot as plt\n",
    "\n",
    "ax = sns.heatmap(confusion_matrix, annot=True, cmap='Blues')\n",
    "\n",
    "ax.set_title('Confusion Matrix for Naive Bayes Classifier \\n\\n');\n",
    "ax.set_xlabel('\\nPredicted Values')\n",
    "ax.set_ylabel('Actual Values ');\n",
    "\n",
    "## Ticket labels - List must be in alphabetical order\n",
    "ax.xaxis.set_ticklabels(['Positive','Negative'])\n",
    "ax.yaxis.set_ticklabels(['Positive','Negative'])\n",
    "\n",
    "## Display the visualization of the Confusion Matrix.\n",
    "plt.show()"
   ]
  },
  {
   "cell_type": "code",
   "execution_count": 43,
   "id": "5f55311e",
   "metadata": {},
   "outputs": [
    {
     "name": "stdout",
     "output_type": "stream",
     "text": [
      "Naive Bayes Classifier\n",
      "Accuracy :  0.8942614240170031\n",
      "Precision :  0.9413817166782973\n"
     ]
    }
   ],
   "source": [
    "print(\"Naive Bayes Classifier\")\n",
    "print(\"Accuracy : \", accuracy_score(y_test, y_pred_test))\n",
    "print(\"Precision : \", metrics.precision_score(y_test, y_pred_test))"
   ]
  },
  {
   "cell_type": "code",
   "execution_count": 44,
   "id": "2dcfd6af",
   "metadata": {},
   "outputs": [
    {
     "name": "stdout",
     "output_type": "stream",
     "text": [
      "              precision    recall  f1-score   support\n",
      "\n",
      "           0       0.74      0.80      0.77       418\n",
      "           1       0.94      0.92      0.93      1464\n",
      "\n",
      "    accuracy                           0.89      1882\n",
      "   macro avg       0.84      0.86      0.85      1882\n",
      "weighted avg       0.90      0.89      0.90      1882\n",
      "\n"
     ]
    }
   ],
   "source": [
    "print(classification_report(y_test_enc, y_pred_test))"
   ]
  },
  {
   "cell_type": "markdown",
   "id": "W5w8ATdc-VPg",
   "metadata": {
    "id": "W5w8ATdc-VPg"
   },
   "source": [
    "## Random Forest "
   ]
  },
  {
   "cell_type": "code",
   "execution_count": 45,
   "id": "amq_vjwJ-UJk",
   "metadata": {
    "id": "amq_vjwJ-UJk"
   },
   "outputs": [],
   "source": [
    "from sklearn.ensemble import RandomForestClassifier"
   ]
  },
  {
   "cell_type": "code",
   "execution_count": 46,
   "id": "64cbebef",
   "metadata": {},
   "outputs": [
    {
     "data": {
      "text/html": [
       "<style>#sk-container-id-3 {color: black;background-color: white;}#sk-container-id-3 pre{padding: 0;}#sk-container-id-3 div.sk-toggleable {background-color: white;}#sk-container-id-3 label.sk-toggleable__label {cursor: pointer;display: block;width: 100%;margin-bottom: 0;padding: 0.3em;box-sizing: border-box;text-align: center;}#sk-container-id-3 label.sk-toggleable__label-arrow:before {content: \"▸\";float: left;margin-right: 0.25em;color: #696969;}#sk-container-id-3 label.sk-toggleable__label-arrow:hover:before {color: black;}#sk-container-id-3 div.sk-estimator:hover label.sk-toggleable__label-arrow:before {color: black;}#sk-container-id-3 div.sk-toggleable__content {max-height: 0;max-width: 0;overflow: hidden;text-align: left;background-color: #f0f8ff;}#sk-container-id-3 div.sk-toggleable__content pre {margin: 0.2em;color: black;border-radius: 0.25em;background-color: #f0f8ff;}#sk-container-id-3 input.sk-toggleable__control:checked~div.sk-toggleable__content {max-height: 200px;max-width: 100%;overflow: auto;}#sk-container-id-3 input.sk-toggleable__control:checked~label.sk-toggleable__label-arrow:before {content: \"▾\";}#sk-container-id-3 div.sk-estimator input.sk-toggleable__control:checked~label.sk-toggleable__label {background-color: #d4ebff;}#sk-container-id-3 div.sk-label input.sk-toggleable__control:checked~label.sk-toggleable__label {background-color: #d4ebff;}#sk-container-id-3 input.sk-hidden--visually {border: 0;clip: rect(1px 1px 1px 1px);clip: rect(1px, 1px, 1px, 1px);height: 1px;margin: -1px;overflow: hidden;padding: 0;position: absolute;width: 1px;}#sk-container-id-3 div.sk-estimator {font-family: monospace;background-color: #f0f8ff;border: 1px dotted black;border-radius: 0.25em;box-sizing: border-box;margin-bottom: 0.5em;}#sk-container-id-3 div.sk-estimator:hover {background-color: #d4ebff;}#sk-container-id-3 div.sk-parallel-item::after {content: \"\";width: 100%;border-bottom: 1px solid gray;flex-grow: 1;}#sk-container-id-3 div.sk-label:hover label.sk-toggleable__label {background-color: #d4ebff;}#sk-container-id-3 div.sk-serial::before {content: \"\";position: absolute;border-left: 1px solid gray;box-sizing: border-box;top: 0;bottom: 0;left: 50%;z-index: 0;}#sk-container-id-3 div.sk-serial {display: flex;flex-direction: column;align-items: center;background-color: white;padding-right: 0.2em;padding-left: 0.2em;position: relative;}#sk-container-id-3 div.sk-item {position: relative;z-index: 1;}#sk-container-id-3 div.sk-parallel {display: flex;align-items: stretch;justify-content: center;background-color: white;position: relative;}#sk-container-id-3 div.sk-item::before, #sk-container-id-3 div.sk-parallel-item::before {content: \"\";position: absolute;border-left: 1px solid gray;box-sizing: border-box;top: 0;bottom: 0;left: 50%;z-index: -1;}#sk-container-id-3 div.sk-parallel-item {display: flex;flex-direction: column;z-index: 1;position: relative;background-color: white;}#sk-container-id-3 div.sk-parallel-item:first-child::after {align-self: flex-end;width: 50%;}#sk-container-id-3 div.sk-parallel-item:last-child::after {align-self: flex-start;width: 50%;}#sk-container-id-3 div.sk-parallel-item:only-child::after {width: 0;}#sk-container-id-3 div.sk-dashed-wrapped {border: 1px dashed gray;margin: 0 0.4em 0.5em 0.4em;box-sizing: border-box;padding-bottom: 0.4em;background-color: white;}#sk-container-id-3 div.sk-label label {font-family: monospace;font-weight: bold;display: inline-block;line-height: 1.2em;}#sk-container-id-3 div.sk-label-container {text-align: center;}#sk-container-id-3 div.sk-container {/* jupyter's `normalize.less` sets `[hidden] { display: none; }` but bootstrap.min.css set `[hidden] { display: none !important; }` so we also need the `!important` here to be able to override the default hidden behavior on the sphinx rendered scikit-learn.org. See: https://github.com/scikit-learn/scikit-learn/issues/21755 */display: inline-block !important;position: relative;}#sk-container-id-3 div.sk-text-repr-fallback {display: none;}</style><div id=\"sk-container-id-3\" class=\"sk-top-container\"><div class=\"sk-text-repr-fallback\"><pre>RandomForestClassifier(n_estimators=50, random_state=2)</pre><b>In a Jupyter environment, please rerun this cell to show the HTML representation or trust the notebook. <br />On GitHub, the HTML representation is unable to render, please try loading this page with nbviewer.org.</b></div><div class=\"sk-container\" hidden><div class=\"sk-item\"><div class=\"sk-estimator sk-toggleable\"><input class=\"sk-toggleable__control sk-hidden--visually\" id=\"sk-estimator-id-3\" type=\"checkbox\" checked><label for=\"sk-estimator-id-3\" class=\"sk-toggleable__label sk-toggleable__label-arrow\">RandomForestClassifier</label><div class=\"sk-toggleable__content\"><pre>RandomForestClassifier(n_estimators=50, random_state=2)</pre></div></div></div></div></div>"
      ],
      "text/plain": [
       "RandomForestClassifier(n_estimators=50, random_state=2)"
      ]
     },
     "execution_count": 46,
     "metadata": {},
     "output_type": "execute_result"
    }
   ],
   "source": [
    "rf = RandomForestClassifier(n_estimators=50, random_state=2)\n",
    "\n",
    "rf.fit(X_train, y_train_enc)"
   ]
  },
  {
   "cell_type": "code",
   "execution_count": 47,
   "id": "d0f65cbb",
   "metadata": {},
   "outputs": [],
   "source": [
    "y_pred = rf.predict(X_test)\n",
    "y_pred_train = rf.predict(X_train)\n",
    "y_pred_test = rf.predict(X_test)"
   ]
  },
  {
   "cell_type": "code",
   "execution_count": 48,
   "id": "e2777fba",
   "metadata": {},
   "outputs": [
    {
     "name": "stdout",
     "output_type": "stream",
     "text": [
      "Random Forest Classifier\n",
      "Accuracy :  0.9282678002125399\n"
     ]
    }
   ],
   "source": [
    "print(\"Random Forest Classifier\")\n",
    "print(\"Accuracy : \", accuracy_score(y_test, y_pred_test))"
   ]
  },
  {
   "cell_type": "code",
   "execution_count": 49,
   "id": "eaf7a203",
   "metadata": {},
   "outputs": [
    {
     "data": {
      "text/plain": [
       "array([[ 397,   21],\n",
       "       [ 114, 1350]])"
      ]
     },
     "execution_count": 49,
     "metadata": {},
     "output_type": "execute_result"
    }
   ],
   "source": [
    "confusion_matrix = metrics.confusion_matrix(y_test, y_pred_test)\n",
    "confusion_matrix"
   ]
  },
  {
   "cell_type": "code",
   "execution_count": 50,
   "id": "d96a9241",
   "metadata": {},
   "outputs": [
    {
     "data": {
      "image/png": "[encoded data removed]",
      "text/plain": [
       "<Figure size 432x288 with 2 Axes>"
      ]
     },
     "metadata": {
      "needs_background": "light"
     },
     "output_type": "display_data"
    }
   ],
   "source": [
    "import seaborn as sns\n",
    "from matplotlib import pyplot as plt\n",
    "\n",
    "ax = sns.heatmap(confusion_matrix, annot=True, cmap='Blues')\n",
    "\n",
    "ax.set_title('Confusion Matrix for Naive Bayes Classifier \\n\\n');\n",
    "ax.set_xlabel('\\nPredicted Values')\n",
    "ax.set_ylabel('Actual Values ');\n",
    "\n",
    "## Ticket labels - List must be in alphabetical order\n",
    "ax.xaxis.set_ticklabels(['Positive','Negative'])\n",
    "ax.yaxis.set_ticklabels(['Positive','Negative'])\n",
    "\n",
    "## Display the visualization of the Confusion Matrix.\n",
    "plt.show()"
   ]
  },
  {
   "cell_type": "code",
   "execution_count": 51,
   "id": "7eYDmhZE-UQz",
   "metadata": {
    "id": "7eYDmhZE-UQz"
   },
   "outputs": [
    {
     "name": "stdout",
     "output_type": "stream",
     "text": [
      "              precision    recall  f1-score   support\n",
      "\n",
      "           0       0.78      0.95      0.85       418\n",
      "           1       0.98      0.92      0.95      1464\n",
      "\n",
      "    accuracy                           0.93      1882\n",
      "   macro avg       0.88      0.94      0.90      1882\n",
      "weighted avg       0.94      0.93      0.93      1882\n",
      "\n"
     ]
    }
   ],
   "source": [
    "print(classification_report(y_test_enc, y_pred_test))"
   ]
  },
  {
   "cell_type": "markdown",
   "id": "8830d058",
   "metadata": {
    "id": "G8BS1ANv-UXR"
   },
   "source": [
    "## AdamBoost"
   ]
  },
  {
   "cell_type": "code",
   "execution_count": 33,
   "id": "5d60b653",
   "metadata": {},
   "outputs": [],
   "source": [
    "from sklearn.ensemble import AdaBoostClassifier"
   ]
  },
  {
   "cell_type": "code",
   "execution_count": 34,
   "id": "87a495aa",
   "metadata": {},
   "outputs": [],
   "source": [
    "abc = AdaBoostClassifier(n_estimators=50,\n",
    "                         learning_rate=1)\n",
    "# Train Adaboost Classifer\n",
    "model = abc.fit(X_train, y_train_enc)\n",
    "\n",
    "#Predict the response for test dataset\n",
    "y_pred = model.predict(X_test)"
   ]
  },
  {
   "cell_type": "code",
   "execution_count": 35,
   "id": "640b5475",
   "metadata": {},
   "outputs": [
    {
     "data": {
      "text/plain": [
       "array([[ 392,   26],\n",
       "       [  52, 1412]])"
      ]
     },
     "execution_count": 35,
     "metadata": {},
     "output_type": "execute_result"
    }
   ],
   "source": [
    "confusion_matrix = metrics.confusion_matrix(y_test, y_pred)\n",
    "confusion_matrix"
   ]
  },
  {
   "cell_type": "code",
   "execution_count": 36,
   "id": "277b3e99",
   "metadata": {},
   "outputs": [
    {
     "data": {
      "image/png": "[encoded data removed]",
      "text/plain": [
       "<Figure size 432x288 with 2 Axes>"
      ]
     },
     "metadata": {
      "needs_background": "light"
     },
     "output_type": "display_data"
    }
   ],
   "source": [
    "import seaborn as sns\n",
    "from matplotlib import pyplot as plt\n",
    "\n",
    "ax = sns.heatmap(confusion_matrix, annot=True, cmap='Blues')\n",
    "\n",
    "ax.set_title('Confusion Matrix for Adam Boost \\n\\n');\n",
    "ax.set_xlabel('\\nPredicted Values')\n",
    "ax.set_ylabel('Actual Values ');\n",
    "\n",
    "## Ticket labels - List must be in alphabetical order\n",
    "ax.xaxis.set_ticklabels(['Positive','Negative'])\n",
    "ax.yaxis.set_ticklabels(['Positive','Negative'])\n",
    "\n",
    "## Display the visualization of the Confusion Matrix.\n",
    "plt.show()"
   ]
  },
  {
   "cell_type": "code",
   "execution_count": 37,
   "id": "7a683b62",
   "metadata": {},
   "outputs": [
    {
     "name": "stdout",
     "output_type": "stream",
     "text": [
      "AdamBoost\n",
      "Accuracy :  0.9585547290116897\n"
     ]
    }
   ],
   "source": [
    "print(\"AdamBoost\")\n",
    "print(\"Accuracy : \", accuracy_score(y_test, y_pred))"
   ]
  },
  {
   "cell_type": "code",
   "execution_count": null,
   "id": "83fef372",
   "metadata": {},
   "outputs": [],
   "source": [
    "print(classification_report(y_test_enc, y_pred))"
   ]
  },
  {
   "cell_type": "markdown",
   "id": "cd464d8b",
   "metadata": {},
   "source": [
    "## SVM Classifier"
   ]
  },
  {
   "cell_type": "code",
   "execution_count": 87,
   "id": "17769e60",
   "metadata": {},
   "outputs": [],
   "source": [
    "from sklearn import preprocessing\n",
    "\n",
    "scaler = preprocessing.StandardScaler().fit(X_train)\n",
    "X_train_transformed = scaler.transform(X_train)"
   ]
  },
  {
   "cell_type": "code",
   "execution_count": 88,
   "id": "4735a92c",
   "metadata": {},
   "outputs": [],
   "source": [
    "from sklearn.linear_model import SGDClassifier\n",
    "from sklearn.metrics import classification_report"
   ]
  },
  {
   "cell_type": "code",
   "execution_count": 89,
   "id": "1e3c7d83",
   "metadata": {},
   "outputs": [],
   "source": [
    "svm = SGDClassifier(loss='hinge',max_iter=500)"
   ]
  },
  {
   "cell_type": "code",
   "execution_count": 90,
   "id": "9fff5cd0",
   "metadata": {},
   "outputs": [
    {
     "data": {
      "text/html": [
       "<style>#sk-container-id-5 {color: black;background-color: white;}#sk-container-id-5 pre{padding: 0;}#sk-container-id-5 div.sk-toggleable {background-color: white;}#sk-container-id-5 label.sk-toggleable__label {cursor: pointer;display: block;width: 100%;margin-bottom: 0;padding: 0.3em;box-sizing: border-box;text-align: center;}#sk-container-id-5 label.sk-toggleable__label-arrow:before {content: \"▸\";float: left;margin-right: 0.25em;color: #696969;}#sk-container-id-5 label.sk-toggleable__label-arrow:hover:before {color: black;}#sk-container-id-5 div.sk-estimator:hover label.sk-toggleable__label-arrow:before {color: black;}#sk-container-id-5 div.sk-toggleable__content {max-height: 0;max-width: 0;overflow: hidden;text-align: left;background-color: #f0f8ff;}#sk-container-id-5 div.sk-toggleable__content pre {margin: 0.2em;color: black;border-radius: 0.25em;background-color: #f0f8ff;}#sk-container-id-5 input.sk-toggleable__control:checked~div.sk-toggleable__content {max-height: 200px;max-width: 100%;overflow: auto;}#sk-container-id-5 input.sk-toggleable__control:checked~label.sk-toggleable__label-arrow:before {content: \"▾\";}#sk-container-id-5 div.sk-estimator input.sk-toggleable__control:checked~label.sk-toggleable__label {background-color: #d4ebff;}#sk-container-id-5 div.sk-label input.sk-toggleable__control:checked~label.sk-toggleable__label {background-color: #d4ebff;}#sk-container-id-5 input.sk-hidden--visually {border: 0;clip: rect(1px 1px 1px 1px);clip: rect(1px, 1px, 1px, 1px);height: 1px;margin: -1px;overflow: hidden;padding: 0;position: absolute;width: 1px;}#sk-container-id-5 div.sk-estimator {font-family: monospace;background-color: #f0f8ff;border: 1px dotted black;border-radius: 0.25em;box-sizing: border-box;margin-bottom: 0.5em;}#sk-container-id-5 div.sk-estimator:hover {background-color: #d4ebff;}#sk-container-id-5 div.sk-parallel-item::after {content: \"\";width: 100%;border-bottom: 1px solid gray;flex-grow: 1;}#sk-container-id-5 div.sk-label:hover label.sk-toggleable__label {background-color: #d4ebff;}#sk-container-id-5 div.sk-serial::before {content: \"\";position: absolute;border-left: 1px solid gray;box-sizing: border-box;top: 0;bottom: 0;left: 50%;z-index: 0;}#sk-container-id-5 div.sk-serial {display: flex;flex-direction: column;align-items: center;background-color: white;padding-right: 0.2em;padding-left: 0.2em;position: relative;}#sk-container-id-5 div.sk-item {position: relative;z-index: 1;}#sk-container-id-5 div.sk-parallel {display: flex;align-items: stretch;justify-content: center;background-color: white;position: relative;}#sk-container-id-5 div.sk-item::before, #sk-container-id-5 div.sk-parallel-item::before {content: \"\";position: absolute;border-left: 1px solid gray;box-sizing: border-box;top: 0;bottom: 0;left: 50%;z-index: -1;}#sk-container-id-5 div.sk-parallel-item {display: flex;flex-direction: column;z-index: 1;position: relative;background-color: white;}#sk-container-id-5 div.sk-parallel-item:first-child::after {align-self: flex-end;width: 50%;}#sk-container-id-5 div.sk-parallel-item:last-child::after {align-self: flex-start;width: 50%;}#sk-container-id-5 div.sk-parallel-item:only-child::after {width: 0;}#sk-container-id-5 div.sk-dashed-wrapped {border: 1px dashed gray;margin: 0 0.4em 0.5em 0.4em;box-sizing: border-box;padding-bottom: 0.4em;background-color: white;}#sk-container-id-5 div.sk-label label {font-family: monospace;font-weight: bold;display: inline-block;line-height: 1.2em;}#sk-container-id-5 div.sk-label-container {text-align: center;}#sk-container-id-5 div.sk-container {/* jupyter's `normalize.less` sets `[hidden] { display: none; }` but bootstrap.min.css set `[hidden] { display: none !important; }` so we also need the `!important` here to be able to override the default hidden behavior on the sphinx rendered scikit-learn.org. See: https://github.com/scikit-learn/scikit-learn/issues/21755 */display: inline-block !important;position: relative;}#sk-container-id-5 div.sk-text-repr-fallback {display: none;}</style><div id=\"sk-container-id-5\" class=\"sk-top-container\"><div class=\"sk-text-repr-fallback\"><pre>SGDClassifier(max_iter=500)</pre><b>In a Jupyter environment, please rerun this cell to show the HTML representation or trust the notebook. <br />On GitHub, the HTML representation is unable to render, please try loading this page with nbviewer.org.</b></div><div class=\"sk-container\" hidden><div class=\"sk-item\"><div class=\"sk-estimator sk-toggleable\"><input class=\"sk-toggleable__control sk-hidden--visually\" id=\"sk-estimator-id-5\" type=\"checkbox\" checked><label for=\"sk-estimator-id-5\" class=\"sk-toggleable__label sk-toggleable__label-arrow\">SGDClassifier</label><div class=\"sk-toggleable__content\"><pre>SGDClassifier(max_iter=500)</pre></div></div></div></div></div>"
      ],
      "text/plain": [
       "SGDClassifier(max_iter=500)"
      ]
     },
     "execution_count": 90,
     "metadata": {},
     "output_type": "execute_result"
    }
   ],
   "source": [
    "svm.fit(X_train_transformed, y_train_enc)"
   ]
  },
  {
   "cell_type": "code",
   "execution_count": 91,
   "id": "674ff0bb",
   "metadata": {},
   "outputs": [],
   "source": [
    "X_test_transformed = scaler.transform(X_test)"
   ]
  },
  {
   "cell_type": "code",
   "execution_count": 97,
   "id": "37c4e078",
   "metadata": {},
   "outputs": [],
   "source": [
    "y_pred = svm.predict(X_test_transformed)"
   ]
  },
  {
   "cell_type": "code",
   "execution_count": 98,
   "id": "9dd245ad",
   "metadata": {},
   "outputs": [
    {
     "data": {
      "text/plain": [
       "array([[ 248,  170],\n",
       "       [  56, 1408]])"
      ]
     },
     "execution_count": 98,
     "metadata": {},
     "output_type": "execute_result"
    }
   ],
   "source": [
    "confusion_matrix = metrics.confusion_matrix(y_test, y_pred)\n",
    "confusion_matrix"
   ]
  },
  {
   "cell_type": "code",
   "execution_count": 99,
   "id": "af19452d",
   "metadata": {},
   "outputs": [
    {
     "data": {
      "image/png": "[encoded data removed]",
      "text/plain": [
       "<Figure size 432x288 with 2 Axes>"
      ]
     },
     "metadata": {
      "needs_background": "light"
     },
     "output_type": "display_data"
    }
   ],
   "source": [
    "import seaborn as sns\n",
    "from matplotlib import pyplot as plt\n",
    "\n",
    "ax = sns.heatmap(confusion_matrix, annot=True, cmap='Blues')\n",
    "\n",
    "ax.set_title('Confusion Matrix for SVM \\n\\n');\n",
    "ax.set_xlabel('\\nPredicted Values')\n",
    "ax.set_ylabel('Actual Values ');\n",
    "\n",
    "## Ticket labels - List must be in alphabetical order\n",
    "ax.xaxis.set_ticklabels(['Positive','Negative'])\n",
    "ax.yaxis.set_ticklabels(['Positive','Negative'])\n",
    "\n",
    "## Display the visualization of the Confusion Matrix.\n",
    "plt.show()"
   ]
  },
  {
   "cell_type": "code",
   "execution_count": 100,
   "id": "4ef8cd00",
   "metadata": {},
   "outputs": [
    {
     "name": "stdout",
     "output_type": "stream",
     "text": [
      "SVM\n",
      "Accuracy :  0.8799149840595112\n"
     ]
    }
   ],
   "source": [
    "print(\"SVM\")\n",
    "print(\"Accuracy : \", accuracy_score(y_test, y_pred))"
   ]
  },
  {
   "cell_type": "code",
   "execution_count": 101,
   "id": "68972f66",
   "metadata": {},
   "outputs": [
    {
     "name": "stdout",
     "output_type": "stream",
     "text": [
      "              precision    recall  f1-score   support\n",
      "\n",
      "           0       0.82      0.59      0.69       418\n",
      "           1       0.89      0.96      0.93      1464\n",
      "\n",
      "    accuracy                           0.88      1882\n",
      "   macro avg       0.85      0.78      0.81      1882\n",
      "weighted avg       0.88      0.88      0.87      1882\n",
      "\n"
     ]
    }
   ],
   "source": [
    "print(classification_report(y_test_enc, y_pred))"
   ]
  },
  {
   "cell_type": "markdown",
   "id": "b9835b6a",
   "metadata": {},
   "source": [
    "## NN"
   ]
  },
  {
   "cell_type": "code",
   "execution_count": 69,
   "id": "09384d6d",
   "metadata": {},
   "outputs": [],
   "source": [
    "from keras.layers import LSTM, Dense, Embedding\n",
    "from keras.models import Sequential\n",
    "from keras.preprocessing import sequence"
   ]
  },
  {
   "cell_type": "code",
   "execution_count": 74,
   "id": "04f863ed",
   "metadata": {},
   "outputs": [],
   "source": [
    "model = Sequential()\n",
    "model.add(Dense(12, input_dim=26650, activation='relu'))\n",
    "model.add(Dense(8, activation='relu'))\n",
    "model.add(Dense(1, activation='sigmoid'))"
   ]
  },
  {
   "cell_type": "code",
   "execution_count": 75,
   "id": "268c2a16",
   "metadata": {},
   "outputs": [
    {
     "data": {
      "text/plain": [
       "(7526, 26650)"
      ]
     },
     "execution_count": 75,
     "metadata": {},
     "output_type": "execute_result"
    }
   ],
   "source": [
    "X_train.shape"
   ]
  },
  {
   "cell_type": "code",
   "execution_count": 76,
   "id": "2faa3523",
   "metadata": {},
   "outputs": [],
   "source": [
    "model.compile(loss='binary_crossentropy',\n",
    "              optimizer='adam',\n",
    "              metrics=['accuracy'])"
   ]
  },
  {
   "cell_type": "code",
   "execution_count": 77,
   "id": "88066767",
   "metadata": {},
   "outputs": [
    {
     "name": "stdout",
     "output_type": "stream",
     "text": [
      "Epoch 1/150\n",
      "753/753 [==============================] - 5s 5ms/step - loss: 0.2572 - accuracy: 0.9017\n",
      "Epoch 2/150\n",
      "753/753 [==============================] - 3s 4ms/step - loss: 0.1163 - accuracy: 0.9633\n",
      "Epoch 3/150\n",
      "753/753 [==============================] - 3s 5ms/step - loss: 0.0454 - accuracy: 0.9902\n",
      "Epoch 4/150\n",
      "753/753 [==============================] - 4s 5ms/step - loss: 0.0161 - accuracy: 0.9972\n",
      "Epoch 5/150\n",
      "753/753 [==============================] - 4s 5ms/step - loss: 0.0068 - accuracy: 0.9991\n",
      "Epoch 6/150\n",
      "753/753 [==============================] - 3s 5ms/step - loss: 0.0036 - accuracy: 0.9996\n",
      "Epoch 7/150\n",
      "753/753 [==============================] - 4s 5ms/step - loss: 0.0022 - accuracy: 0.9997\n",
      "Epoch 8/150\n",
      "753/753 [==============================] - 4s 5ms/step - loss: 0.0016 - accuracy: 0.9999\n",
      "Epoch 9/150\n",
      "753/753 [==============================] - 4s 5ms/step - loss: 0.0013 - accuracy: 0.9999\n",
      "Epoch 10/150\n",
      "753/753 [==============================] - 4s 5ms/step - loss: 0.0011 - accuracy: 0.9999\n",
      "Epoch 11/150\n",
      "753/753 [==============================] - 4s 5ms/step - loss: 9.7699e-04 - accuracy: 0.9999\n",
      "Epoch 12/150\n",
      "753/753 [==============================] - 4s 5ms/step - loss: 8.5631e-04 - accuracy: 0.9999\n",
      "Epoch 13/150\n",
      "753/753 [==============================] - 4s 5ms/step - loss: 7.4853e-04 - accuracy: 0.9999\n",
      "Epoch 14/150\n",
      "753/753 [==============================] - 4s 5ms/step - loss: 6.4152e-04 - accuracy: 0.9999\n",
      "Epoch 15/150\n",
      "753/753 [==============================] - 4s 5ms/step - loss: 5.2032e-04 - accuracy: 0.9999\n",
      "Epoch 16/150\n",
      "753/753 [==============================] - 4s 5ms/step - loss: 3.4075e-04 - accuracy: 0.9999\n",
      "Epoch 17/150\n",
      "753/753 [==============================] - 3s 4ms/step - loss: 2.0135e-04 - accuracy: 0.9999\n",
      "Epoch 18/150\n",
      "753/753 [==============================] - 4s 6ms/step - loss: 1.0119e-04 - accuracy: 1.0000\n",
      "Epoch 19/150\n",
      "753/753 [==============================] - 3s 4ms/step - loss: 6.5719e-05 - accuracy: 1.0000\n",
      "Epoch 20/150\n",
      "753/753 [==============================] - 3s 5ms/step - loss: 4.3161e-05 - accuracy: 1.0000\n",
      "Epoch 21/150\n",
      "753/753 [==============================] - 4s 6ms/step - loss: 3.2025e-05 - accuracy: 1.0000\n",
      "Epoch 22/150\n",
      "753/753 [==============================] - 4s 6ms/step - loss: 2.4162e-05 - accuracy: 1.0000\n",
      "Epoch 23/150\n",
      "753/753 [==============================] - 4s 5ms/step - loss: 1.8057e-05 - accuracy: 1.0000\n",
      "Epoch 24/150\n",
      "753/753 [==============================] - 5s 7ms/step - loss: 1.4403e-05 - accuracy: 1.0000\n",
      "Epoch 25/150\n",
      "753/753 [==============================] - 6s 7ms/step - loss: 1.1464e-05 - accuracy: 1.0000\n",
      "Epoch 26/150\n",
      "753/753 [==============================] - 4s 5ms/step - loss: 9.2740e-06 - accuracy: 1.0000\n",
      "Epoch 27/150\n",
      "753/753 [==============================] - 4s 5ms/step - loss: 7.7885e-06 - accuracy: 1.0000\n",
      "Epoch 28/150\n",
      "753/753 [==============================] - 4s 5ms/step - loss: 6.4191e-06 - accuracy: 1.0000\n",
      "Epoch 29/150\n",
      "753/753 [==============================] - 4s 5ms/step - loss: 5.2212e-06 - accuracy: 1.0000\n",
      "Epoch 30/150\n",
      "753/753 [==============================] - 3s 5ms/step - loss: 4.3928e-06 - accuracy: 1.0000\n",
      "Epoch 31/150\n",
      "753/753 [==============================] - 3s 4ms/step - loss: 3.6179e-06 - accuracy: 1.0000\n",
      "Epoch 32/150\n",
      "753/753 [==============================] - 4s 5ms/step - loss: 3.0871e-06 - accuracy: 1.0000\n",
      "Epoch 33/150\n",
      "753/753 [==============================] - 4s 5ms/step - loss: 2.6372e-06 - accuracy: 1.0000\n",
      "Epoch 34/150\n",
      "753/753 [==============================] - 3s 4ms/step - loss: 2.2705e-06 - accuracy: 1.0000\n",
      "Epoch 35/150\n",
      "753/753 [==============================] - 3s 4ms/step - loss: 1.8832e-06 - accuracy: 1.0000\n",
      "Epoch 36/150\n",
      "753/753 [==============================] - 3s 4ms/step - loss: 1.5794e-06 - accuracy: 1.0000\n",
      "Epoch 37/150\n",
      "753/753 [==============================] - 3s 4ms/step - loss: 1.3486e-06 - accuracy: 1.0000\n",
      "Epoch 38/150\n",
      "753/753 [==============================] - 3s 4ms/step - loss: 1.1269e-06 - accuracy: 1.0000\n",
      "Epoch 39/150\n",
      "753/753 [==============================] - 3s 4ms/step - loss: 9.5377e-07 - accuracy: 1.0000\n",
      "Epoch 40/150\n",
      "753/753 [==============================] - 4s 5ms/step - loss: 8.0054e-07 - accuracy: 1.0000\n",
      "Epoch 41/150\n",
      "753/753 [==============================] - 4s 5ms/step - loss: 6.7657e-07 - accuracy: 1.0000\n",
      "Epoch 42/150\n",
      "753/753 [==============================] - 3s 4ms/step - loss: 5.5596e-07 - accuracy: 1.0000\n",
      "Epoch 43/150\n",
      "753/753 [==============================] - 3s 4ms/step - loss: 4.7879e-07 - accuracy: 1.0000\n",
      "Epoch 44/150\n",
      "753/753 [==============================] - 4s 5ms/step - loss: 3.8961e-07 - accuracy: 1.0000\n",
      "Epoch 45/150\n",
      "753/753 [==============================] - 4s 6ms/step - loss: 3.3176e-07 - accuracy: 1.0000\n",
      "Epoch 46/150\n",
      "753/753 [==============================] - 3s 4ms/step - loss: 2.7164e-07 - accuracy: 1.0000\n",
      "Epoch 47/150\n",
      "753/753 [==============================] - 3s 4ms/step - loss: 2.2753e-07 - accuracy: 1.0000\n",
      "Epoch 48/150\n",
      "753/753 [==============================] - 3s 5ms/step - loss: 1.9202e-07 - accuracy: 1.0000\n",
      "Epoch 49/150\n",
      "753/753 [==============================] - 4s 5ms/step - loss: 1.6143e-07 - accuracy: 1.0000\n",
      "Epoch 50/150\n",
      "753/753 [==============================] - 3s 5ms/step - loss: 1.3458e-07 - accuracy: 1.0000\n",
      "Epoch 51/150\n",
      "753/753 [==============================] - 4s 5ms/step - loss: 1.0965e-07 - accuracy: 1.0000\n",
      "Epoch 52/150\n",
      "753/753 [==============================] - 5s 7ms/step - loss: 8.8147e-08 - accuracy: 1.0000\n",
      "Epoch 53/150\n",
      "753/753 [==============================] - 6s 8ms/step - loss: 9.2654e-08 - accuracy: 1.0000\n",
      "Epoch 54/150\n",
      "753/753 [==============================] - 6s 7ms/step - loss: 5.9887e-08 - accuracy: 1.0000\n",
      "Epoch 55/150\n",
      "753/753 [==============================] - 6s 8ms/step - loss: 5.0682e-08 - accuracy: 1.0000\n",
      "Epoch 56/150\n",
      "753/753 [==============================] - 6s 8ms/step - loss: 4.1404e-08 - accuracy: 1.0000\n",
      "Epoch 57/150\n",
      "753/753 [==============================] - 6s 8ms/step - loss: 3.5218e-08 - accuracy: 1.0000\n",
      "Epoch 58/150\n",
      "753/753 [==============================] - 6s 8ms/step - loss: 2.9644e-08 - accuracy: 1.0000\n",
      "Epoch 59/150\n",
      "753/753 [==============================] - 6s 8ms/step - loss: 2.6303e-08 - accuracy: 1.0000\n",
      "Epoch 60/150\n",
      "753/753 [==============================] - 6s 8ms/step - loss: 1.9567e-08 - accuracy: 1.0000\n",
      "Epoch 61/150\n",
      "753/753 [==============================] - 6s 8ms/step - loss: 1.6296e-08 - accuracy: 1.0000\n",
      "Epoch 62/150\n",
      "753/753 [==============================] - 6s 7ms/step - loss: 1.4224e-08 - accuracy: 1.0000\n",
      "Epoch 63/150\n",
      "753/753 [==============================] - 6s 8ms/step - loss: 1.1343e-08 - accuracy: 1.0000\n",
      "Epoch 64/150\n",
      "753/753 [==============================] - 6s 8ms/step - loss: 9.5754e-09 - accuracy: 1.0000\n",
      "Epoch 65/150\n",
      "753/753 [==============================] - 6s 8ms/step - loss: 8.0195e-09 - accuracy: 1.0000\n",
      "Epoch 66/150\n",
      "753/753 [==============================] - 7s 9ms/step - loss: 6.7662e-09 - accuracy: 1.0000\n",
      "Epoch 67/150\n",
      "753/753 [==============================] - 6s 8ms/step - loss: 5.7024e-09 - accuracy: 1.0000\n",
      "Epoch 68/150\n",
      "753/753 [==============================] - 6s 8ms/step - loss: 4.8338e-09 - accuracy: 1.0000\n",
      "Epoch 69/150\n",
      "753/753 [==============================] - 7s 9ms/step - loss: 4.1008e-09 - accuracy: 1.0000\n",
      "Epoch 70/150\n",
      "753/753 [==============================] - 6s 8ms/step - loss: 3.4412e-09 - accuracy: 1.0000\n",
      "Epoch 71/150\n",
      "753/753 [==============================] - 6s 8ms/step - loss: 2.9077e-09 - accuracy: 1.0000\n",
      "Epoch 72/150\n",
      "753/753 [==============================] - 6s 8ms/step - loss: 2.4905e-09 - accuracy: 1.0000\n",
      "Epoch 73/150\n",
      "753/753 [==============================] - 6s 8ms/step - loss: 2.2899e-09 - accuracy: 1.0000\n",
      "Epoch 74/150\n",
      "753/753 [==============================] - 6s 8ms/step - loss: 2.0132e-09 - accuracy: 1.0000\n",
      "Epoch 75/150\n",
      "753/753 [==============================] - 5s 7ms/step - loss: 1.7757e-09 - accuracy: 1.0000\n",
      "Epoch 76/150\n",
      "753/753 [==============================] - 5s 7ms/step - loss: 1.5679e-09 - accuracy: 1.0000\n",
      "Epoch 77/150\n",
      "753/753 [==============================] - 5s 7ms/step - loss: 1.3843e-09 - accuracy: 1.0000\n",
      "Epoch 78/150\n",
      "753/753 [==============================] - 6s 7ms/step - loss: 1.2566e-09 - accuracy: 1.0000\n",
      "Epoch 79/150\n",
      "753/753 [==============================] - 6s 8ms/step - loss: 1.1219e-09 - accuracy: 1.0000\n",
      "Epoch 80/150\n",
      "753/753 [==============================] - 5s 7ms/step - loss: 1.0215e-09 - accuracy: 1.0000\n",
      "Epoch 81/150\n",
      "753/753 [==============================] - 6s 8ms/step - loss: 9.3292e-10 - accuracy: 1.0000\n",
      "Epoch 82/150\n",
      "753/753 [==============================] - 6s 7ms/step - loss: 8.5838e-10 - accuracy: 1.0000\n",
      "Epoch 83/150\n",
      "753/753 [==============================] - 5s 7ms/step - loss: 7.8251e-10 - accuracy: 1.0000\n",
      "Epoch 84/150\n",
      "753/753 [==============================] - 5s 7ms/step - loss: 7.2485e-10 - accuracy: 1.0000\n",
      "Epoch 85/150\n",
      "753/753 [==============================] - 6s 8ms/step - loss: 6.6955e-10 - accuracy: 1.0000\n",
      "Epoch 86/150\n",
      "753/753 [==============================] - 6s 8ms/step - loss: 6.6724e-10 - accuracy: 1.0000\n",
      "Epoch 87/150\n",
      "753/753 [==============================] - 6s 8ms/step - loss: 6.3652e-10 - accuracy: 1.0000\n",
      "Epoch 88/150\n",
      "753/753 [==============================] - 5s 7ms/step - loss: 6.0538e-10 - accuracy: 1.0000\n",
      "Epoch 89/150\n",
      "753/753 [==============================] - 6s 8ms/step - loss: 5.5451e-10 - accuracy: 1.0000\n",
      "Epoch 90/150\n",
      "753/753 [==============================] - 7s 9ms/step - loss: 5.1380e-10 - accuracy: 1.0000\n",
      "Epoch 91/150\n",
      "753/753 [==============================] - 6s 8ms/step - loss: 4.8899e-10 - accuracy: 1.0000\n",
      "Epoch 92/150\n",
      "753/753 [==============================] - 6s 8ms/step - loss: 4.6820e-10 - accuracy: 1.0000\n",
      "Epoch 93/150\n",
      "753/753 [==============================] - 6s 8ms/step - loss: 4.3427e-10 - accuracy: 1.0000\n",
      "Epoch 94/150\n",
      "753/753 [==============================] - 5s 7ms/step - loss: 4.1512e-10 - accuracy: 1.0000\n",
      "Epoch 95/150\n",
      "753/753 [==============================] - 6s 8ms/step - loss: 3.9464e-10 - accuracy: 1.0000\n",
      "Epoch 96/150\n",
      "753/753 [==============================] - 6s 8ms/step - loss: 3.8422e-10 - accuracy: 1.0000\n",
      "Epoch 97/150\n",
      "753/753 [==============================] - 6s 8ms/step - loss: 3.9659e-10 - accuracy: 1.0000\n",
      "Epoch 98/150\n",
      "753/753 [==============================] - 5s 7ms/step - loss: 3.7335e-10 - accuracy: 1.0000\n",
      "Epoch 99/150\n",
      "753/753 [==============================] - 5s 7ms/step - loss: 3.5213e-10 - accuracy: 1.0000\n",
      "Epoch 100/150\n",
      "753/753 [==============================] - 6s 8ms/step - loss: 3.4583e-10 - accuracy: 1.0000\n",
      "Epoch 101/150\n",
      "753/753 [==============================] - 5s 7ms/step - loss: 3.2110e-10 - accuracy: 1.0000\n",
      "Epoch 102/150\n",
      "753/753 [==============================] - 5s 6ms/step - loss: 3.1187e-10 - accuracy: 1.0000\n",
      "Epoch 103/150\n",
      "753/753 [==============================] - 5s 7ms/step - loss: 3.1117e-10 - accuracy: 1.0000\n",
      "Epoch 104/150\n",
      "753/753 [==============================] - 5s 7ms/step - loss: 3.0230e-10 - accuracy: 1.0000\n",
      "Epoch 105/150\n",
      "753/753 [==============================] - 5s 6ms/step - loss: 2.8994e-10 - accuracy: 1.0000\n",
      "Epoch 106/150\n",
      "753/753 [==============================] - 5s 6ms/step - loss: 2.8346e-10 - accuracy: 1.0000\n",
      "Epoch 107/150\n",
      "753/753 [==============================] - 4s 6ms/step - loss: 2.7413e-10 - accuracy: 1.0000\n",
      "Epoch 108/150\n",
      "753/753 [==============================] - 5s 6ms/step - loss: 2.6640e-10 - accuracy: 1.0000\n",
      "Epoch 109/150\n",
      "753/753 [==============================] - 5s 7ms/step - loss: 2.6241e-10 - accuracy: 1.0000\n",
      "Epoch 110/150\n",
      "753/753 [==============================] - 4s 6ms/step - loss: 2.5522e-10 - accuracy: 1.0000\n",
      "Epoch 111/150\n",
      "753/753 [==============================] - 5s 6ms/step - loss: 2.5188e-10 - accuracy: 1.0000\n",
      "Epoch 112/150\n",
      "753/753 [==============================] - 5s 6ms/step - loss: 2.4692e-10 - accuracy: 1.0000\n",
      "Epoch 113/150\n",
      "753/753 [==============================] - 5s 7ms/step - loss: 2.4206e-10 - accuracy: 1.0000\n",
      "Epoch 114/150\n",
      "753/753 [==============================] - 4s 6ms/step - loss: 2.3668e-10 - accuracy: 1.0000\n",
      "Epoch 115/150\n",
      "753/753 [==============================] - 5s 6ms/step - loss: 2.3443e-10 - accuracy: 1.0000\n",
      "Epoch 116/150\n",
      "753/753 [==============================] - 5s 6ms/step - loss: 2.2840e-10 - accuracy: 1.0000\n",
      "Epoch 117/150\n",
      "753/753 [==============================] - 5s 6ms/step - loss: 2.2785e-10 - accuracy: 1.0000\n",
      "Epoch 118/150\n",
      "753/753 [==============================] - 5s 6ms/step - loss: 2.2508e-10 - accuracy: 1.0000\n",
      "Epoch 119/150\n",
      "753/753 [==============================] - 4s 6ms/step - loss: 2.2774e-10 - accuracy: 1.0000\n",
      "Epoch 120/150\n",
      "753/753 [==============================] - 5s 6ms/step - loss: 2.1954e-10 - accuracy: 1.0000\n",
      "Epoch 121/150\n",
      "753/753 [==============================] - 5s 6ms/step - loss: 2.1254e-10 - accuracy: 1.0000\n",
      "Epoch 122/150\n",
      "753/753 [==============================] - 6s 8ms/step - loss: 2.0965e-10 - accuracy: 1.0000\n",
      "Epoch 123/150\n",
      "753/753 [==============================] - 5s 6ms/step - loss: 2.0779e-10 - accuracy: 1.0000\n",
      "Epoch 124/150\n",
      "753/753 [==============================] - 5s 6ms/step - loss: 2.0631e-10 - accuracy: 1.0000\n",
      "Epoch 125/150\n",
      "753/753 [==============================] - 4s 6ms/step - loss: 1.9939e-10 - accuracy: 1.0000\n",
      "Epoch 126/150\n",
      "753/753 [==============================] - 4s 6ms/step - loss: 1.9434e-10 - accuracy: 1.0000\n",
      "Epoch 127/150\n",
      "753/753 [==============================] - 5s 7ms/step - loss: 1.9241e-10 - accuracy: 1.0000\n",
      "Epoch 128/150\n",
      "753/753 [==============================] - 4s 6ms/step - loss: 1.8655e-10 - accuracy: 1.0000\n",
      "Epoch 129/150\n",
      "753/753 [==============================] - 5s 7ms/step - loss: 1.8702e-10 - accuracy: 1.0000\n",
      "Epoch 130/150\n",
      "753/753 [==============================] - 5s 7ms/step - loss: 1.9290e-10 - accuracy: 1.0000\n",
      "Epoch 131/150\n",
      "753/753 [==============================] - 5s 6ms/step - loss: 1.8384e-10 - accuracy: 1.0000\n",
      "Epoch 132/150\n",
      "753/753 [==============================] - 5s 6ms/step - loss: 1.7823e-10 - accuracy: 1.0000\n",
      "Epoch 133/150\n",
      "753/753 [==============================] - 5s 7ms/step - loss: 1.7634e-10 - accuracy: 1.0000\n",
      "Epoch 134/150\n",
      "753/753 [==============================] - 5s 7ms/step - loss: 1.7269e-10 - accuracy: 1.0000\n",
      "Epoch 135/150\n",
      "753/753 [==============================] - 4s 5ms/step - loss: 1.6741e-10 - accuracy: 1.0000\n",
      "Epoch 136/150\n",
      "753/753 [==============================] - 4s 6ms/step - loss: 1.7077e-10 - accuracy: 1.0000\n",
      "Epoch 137/150\n",
      "753/753 [==============================] - 4s 5ms/step - loss: 1.6820e-10 - accuracy: 1.0000\n",
      "Epoch 138/150\n",
      "753/753 [==============================] - 5s 6ms/step - loss: 1.6978e-10 - accuracy: 1.0000\n",
      "Epoch 139/150\n",
      "753/753 [==============================] - 5s 6ms/step - loss: 1.6717e-10 - accuracy: 1.0000\n",
      "Epoch 140/150\n",
      "753/753 [==============================] - 4s 6ms/step - loss: 1.6243e-10 - accuracy: 1.0000\n",
      "Epoch 141/150\n",
      "753/753 [==============================] - 4s 5ms/step - loss: 1.5942e-10 - accuracy: 1.0000\n",
      "Epoch 142/150\n",
      "753/753 [==============================] - 5s 6ms/step - loss: 1.5847e-10 - accuracy: 1.0000\n",
      "Epoch 143/150\n",
      "753/753 [==============================] - 5s 6ms/step - loss: 1.6030e-10 - accuracy: 1.0000\n",
      "Epoch 144/150\n",
      "753/753 [==============================] - 5s 6ms/step - loss: 1.5799e-10 - accuracy: 1.0000\n",
      "Epoch 145/150\n",
      "753/753 [==============================] - 5s 7ms/step - loss: 1.5839e-10 - accuracy: 1.0000\n",
      "Epoch 146/150\n",
      "753/753 [==============================] - 4s 6ms/step - loss: 1.5449e-10 - accuracy: 1.0000\n",
      "Epoch 147/150\n",
      "753/753 [==============================] - 4s 6ms/step - loss: 1.5025e-10 - accuracy: 1.0000\n",
      "Epoch 148/150\n",
      "753/753 [==============================] - 4s 6ms/step - loss: 1.4599e-10 - accuracy: 1.0000\n",
      "Epoch 149/150\n",
      "753/753 [==============================] - 4s 6ms/step - loss: 1.4461e-10 - accuracy: 1.0000\n",
      "Epoch 150/150\n",
      "753/753 [==============================] - 4s 6ms/step - loss: 1.4592e-10 - accuracy: 1.0000\n"
     ]
    },
    {
     "data": {
      "text/plain": [
       "<keras.callbacks.History at 0x7ff0de18d4f0>"
      ]
     },
     "execution_count": 77,
     "metadata": {},
     "output_type": "execute_result"
    }
   ],
   "source": [
    "model.fit(X_train, y_train,\n",
    "          epochs=150, batch_size = 10)"
   ]
  },
  {
   "cell_type": "code",
   "execution_count": 78,
   "id": "deaa0f2a",
   "metadata": {},
   "outputs": [
    {
     "name": "stdout",
     "output_type": "stream",
     "text": [
      "294/294 [==============================] - 3s 7ms/step - loss: 0.1515 - accuracy: 0.9885\n"
     ]
    }
   ],
   "source": [
    "accuracy = model.evaluate(X, Y)"
   ]
  }
 ],
 "metadata": {
  "colab": {
   "collapsed_sections": [],
   "name": "SentimentAnalysisAribnbCrete.ipynb",
   "provenance": []
  },
  "kernelspec": {
   "display_name": "Python 3 (ipykernel)",
   "language": "python",
   "name": "python3"
  },
  "language_info": {
   "codemirror_mode": {
    "name": "ipython",
    "version": 3
   },
   "file_extension": ".py",
   "mimetype": "text/x-python",
   "name": "python",
   "nbconvert_exporter": "python",
   "pygments_lexer": "ipython3",
   "version": "3.9.7"
  },
  "latex_envs": {
   "LaTeX_envs_menu_present": true,
   "autoclose": false,
   "autocomplete": true,
   "bibliofile": "biblio.bib",
   "cite_by": "apalike",
   "current_citInitial": 1,
   "eqLabelWithNumbers": true,
   "eqNumInitial": 1,
   "hotkeys": {
    "equation": "Ctrl-E",
    "itemize": "Ctrl-I"
   },
   "labels_anchors": false,
   "latex_user_defs": false,
   "report_style_numbering": false,
   "user_envs_cfg": false
  }
 },
 "nbformat": 4,
 "nbformat_minor": 5
}
